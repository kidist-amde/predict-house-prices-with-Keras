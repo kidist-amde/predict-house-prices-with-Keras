{
 "cells": [
  {
   "cell_type": "markdown",
   "metadata": {},
   "source": [
    "### Import all the necessary modules for preprocessing the data\n"
   ]
  },
  {
   "cell_type": "code",
   "execution_count": 1,
   "metadata": {},
   "outputs": [],
   "source": [
    "import numpy as np\n",
    "import pandas as pd\n",
    "import sklearn\n",
    "from sklearn import preprocessing\n",
    "from sklearn.model_selection import train_test_split"
   ]
  },
  {
   "cell_type": "markdown",
   "metadata": {},
   "source": [
    "### Import all the necessary modules for the model"
   ]
  },
  {
   "cell_type": "code",
   "execution_count": 2,
   "metadata": {},
   "outputs": [
    {
     "name": "stderr",
     "output_type": "stream",
     "text": [
      "Using TensorFlow backend.\n",
      "/home/kidist/.local/lib/python3.7/site-packages/tensorboard/compat/tensorflow_stub/dtypes.py:541: FutureWarning: Passing (type, 1) or '1type' as a synonym of type is deprecated; in a future version of numpy, it will be understood as (type, (1,)) / '(1,)type'.\n",
      "  _np_qint8 = np.dtype([(\"qint8\", np.int8, 1)])\n",
      "/home/kidist/.local/lib/python3.7/site-packages/tensorboard/compat/tensorflow_stub/dtypes.py:542: FutureWarning: Passing (type, 1) or '1type' as a synonym of type is deprecated; in a future version of numpy, it will be understood as (type, (1,)) / '(1,)type'.\n",
      "  _np_quint8 = np.dtype([(\"quint8\", np.uint8, 1)])\n",
      "/home/kidist/.local/lib/python3.7/site-packages/tensorboard/compat/tensorflow_stub/dtypes.py:543: FutureWarning: Passing (type, 1) or '1type' as a synonym of type is deprecated; in a future version of numpy, it will be understood as (type, (1,)) / '(1,)type'.\n",
      "  _np_qint16 = np.dtype([(\"qint16\", np.int16, 1)])\n",
      "/home/kidist/.local/lib/python3.7/site-packages/tensorboard/compat/tensorflow_stub/dtypes.py:544: FutureWarning: Passing (type, 1) or '1type' as a synonym of type is deprecated; in a future version of numpy, it will be understood as (type, (1,)) / '(1,)type'.\n",
      "  _np_quint16 = np.dtype([(\"quint16\", np.uint16, 1)])\n",
      "/home/kidist/.local/lib/python3.7/site-packages/tensorboard/compat/tensorflow_stub/dtypes.py:545: FutureWarning: Passing (type, 1) or '1type' as a synonym of type is deprecated; in a future version of numpy, it will be understood as (type, (1,)) / '(1,)type'.\n",
      "  _np_qint32 = np.dtype([(\"qint32\", np.int32, 1)])\n",
      "/home/kidist/.local/lib/python3.7/site-packages/tensorboard/compat/tensorflow_stub/dtypes.py:550: FutureWarning: Passing (type, 1) or '1type' as a synonym of type is deprecated; in a future version of numpy, it will be understood as (type, (1,)) / '(1,)type'.\n",
      "  np_resource = np.dtype([(\"resource\", np.ubyte, 1)])\n"
     ]
    }
   ],
   "source": [
    "import keras\n",
    "from keras.models import Sequential\n",
    "from keras.layers import Dense\n"
   ]
  },
  {
   "cell_type": "markdown",
   "metadata": {},
   "source": [
    "### Import all the necessary modules for visualizing  loss and accuracy"
   ]
  },
  {
   "cell_type": "code",
   "execution_count": 3,
   "metadata": {},
   "outputs": [],
   "source": [
    "import matplotlib.pyplot as plt\n"
   ]
  },
  {
   "cell_type": "markdown",
   "metadata": {},
   "source": [
    "### import the code that we need for L2 regularization and dropout:"
   ]
  },
  {
   "cell_type": "code",
   "execution_count": 4,
   "metadata": {},
   "outputs": [],
   "source": [
    "from keras.layers import Dropout\n",
    "from keras import regularizers"
   ]
  },
  {
   "cell_type": "markdown",
   "metadata": {},
   "source": [
    "#  processing the data :\n",
    " - Read in the CSV (comma separated values) file and convert them to arrays.\n",
    " - Split our dataset into the input features and the label.\n",
    " - Scale the data so that the input features have similar orders of magnitude.\n",
    " - Split our dataset into the training set, the validation set and the test set."
   ]
  },
  {
   "cell_type": "markdown",
   "metadata": {},
   "source": [
    "### Read in the CSV (comma separated values) file "
   ]
  },
  {
   "cell_type": "code",
   "execution_count": 5,
   "metadata": {},
   "outputs": [],
   "source": [
    "dataset = pd.read_csv(\"housepricedata.csv\")"
   ]
  },
  {
   "cell_type": "code",
   "execution_count": 6,
   "metadata": {},
   "outputs": [
    {
     "data": {
      "text/plain": [
       "(1460, 11)"
      ]
     },
     "execution_count": 6,
     "metadata": {},
     "output_type": "execute_result"
    }
   ],
   "source": [
    "# ! ls \n",
    "dataset.shape"
   ]
  },
  {
   "cell_type": "code",
   "execution_count": 7,
   "metadata": {},
   "outputs": [
    {
     "data": {
      "text/html": [
       "<div>\n",
       "<style scoped>\n",
       "    .dataframe tbody tr th:only-of-type {\n",
       "        vertical-align: middle;\n",
       "    }\n",
       "\n",
       "    .dataframe tbody tr th {\n",
       "        vertical-align: top;\n",
       "    }\n",
       "\n",
       "    .dataframe thead th {\n",
       "        text-align: right;\n",
       "    }\n",
       "</style>\n",
       "<table border=\"1\" class=\"dataframe\">\n",
       "  <thead>\n",
       "    <tr style=\"text-align: right;\">\n",
       "      <th></th>\n",
       "      <th>LotArea</th>\n",
       "      <th>OverallQual</th>\n",
       "      <th>OverallCond</th>\n",
       "      <th>TotalBsmtSF</th>\n",
       "      <th>FullBath</th>\n",
       "      <th>HalfBath</th>\n",
       "      <th>BedroomAbvGr</th>\n",
       "      <th>TotRmsAbvGrd</th>\n",
       "      <th>Fireplaces</th>\n",
       "      <th>GarageArea</th>\n",
       "      <th>AboveMedianPrice</th>\n",
       "    </tr>\n",
       "  </thead>\n",
       "  <tbody>\n",
       "    <tr>\n",
       "      <td>0</td>\n",
       "      <td>8450</td>\n",
       "      <td>7</td>\n",
       "      <td>5</td>\n",
       "      <td>856</td>\n",
       "      <td>2</td>\n",
       "      <td>1</td>\n",
       "      <td>3</td>\n",
       "      <td>8</td>\n",
       "      <td>0</td>\n",
       "      <td>548</td>\n",
       "      <td>1</td>\n",
       "    </tr>\n",
       "    <tr>\n",
       "      <td>1</td>\n",
       "      <td>9600</td>\n",
       "      <td>6</td>\n",
       "      <td>8</td>\n",
       "      <td>1262</td>\n",
       "      <td>2</td>\n",
       "      <td>0</td>\n",
       "      <td>3</td>\n",
       "      <td>6</td>\n",
       "      <td>1</td>\n",
       "      <td>460</td>\n",
       "      <td>1</td>\n",
       "    </tr>\n",
       "    <tr>\n",
       "      <td>2</td>\n",
       "      <td>11250</td>\n",
       "      <td>7</td>\n",
       "      <td>5</td>\n",
       "      <td>920</td>\n",
       "      <td>2</td>\n",
       "      <td>1</td>\n",
       "      <td>3</td>\n",
       "      <td>6</td>\n",
       "      <td>1</td>\n",
       "      <td>608</td>\n",
       "      <td>1</td>\n",
       "    </tr>\n",
       "    <tr>\n",
       "      <td>3</td>\n",
       "      <td>9550</td>\n",
       "      <td>7</td>\n",
       "      <td>5</td>\n",
       "      <td>756</td>\n",
       "      <td>1</td>\n",
       "      <td>0</td>\n",
       "      <td>3</td>\n",
       "      <td>7</td>\n",
       "      <td>1</td>\n",
       "      <td>642</td>\n",
       "      <td>0</td>\n",
       "    </tr>\n",
       "    <tr>\n",
       "      <td>4</td>\n",
       "      <td>14260</td>\n",
       "      <td>8</td>\n",
       "      <td>5</td>\n",
       "      <td>1145</td>\n",
       "      <td>2</td>\n",
       "      <td>1</td>\n",
       "      <td>4</td>\n",
       "      <td>9</td>\n",
       "      <td>1</td>\n",
       "      <td>836</td>\n",
       "      <td>1</td>\n",
       "    </tr>\n",
       "  </tbody>\n",
       "</table>\n",
       "</div>"
      ],
      "text/plain": [
       "   LotArea  OverallQual  OverallCond  TotalBsmtSF  FullBath  HalfBath  \\\n",
       "0     8450            7            5          856         2         1   \n",
       "1     9600            6            8         1262         2         0   \n",
       "2    11250            7            5          920         2         1   \n",
       "3     9550            7            5          756         1         0   \n",
       "4    14260            8            5         1145         2         1   \n",
       "\n",
       "   BedroomAbvGr  TotRmsAbvGrd  Fireplaces  GarageArea  AboveMedianPrice  \n",
       "0             3             8           0         548                 1  \n",
       "1             3             6           1         460                 1  \n",
       "2             3             6           1         608                 1  \n",
       "3             3             7           1         642                 0  \n",
       "4             4             9           1         836                 1  "
      ]
     },
     "execution_count": 7,
     "metadata": {},
     "output_type": "execute_result"
    }
   ],
   "source": [
    "dataset.head()"
   ]
  },
  {
   "cell_type": "markdown",
   "metadata": {},
   "source": [
    "### Convert the dataset to arrays. Arrays are a data format that our algorithm can process"
   ]
  },
  {
   "cell_type": "code",
   "execution_count": 8,
   "metadata": {},
   "outputs": [
    {
     "data": {
      "text/plain": [
       "pandas.core.frame.DataFrame"
      ]
     },
     "execution_count": 8,
     "metadata": {},
     "output_type": "execute_result"
    }
   ],
   "source": [
    "type(dataset)"
   ]
  },
  {
   "cell_type": "code",
   "execution_count": 9,
   "metadata": {},
   "outputs": [
    {
     "data": {
      "text/plain": [
       "numpy.ndarray"
      ]
     },
     "execution_count": 9,
     "metadata": {},
     "output_type": "execute_result"
    }
   ],
   "source": [
    "df = dataset.values\n",
    "type(df)"
   ]
  },
  {
   "cell_type": "code",
   "execution_count": 10,
   "metadata": {},
   "outputs": [
    {
     "data": {
      "text/plain": [
       "array([[ 8450,     7,     5, ...,     0,   548,     1],\n",
       "       [ 9600,     6,     8, ...,     1,   460,     1],\n",
       "       [11250,     7,     5, ...,     1,   608,     1],\n",
       "       ...,\n",
       "       [ 9042,     7,     9, ...,     2,   252,     1],\n",
       "       [ 9717,     5,     6, ...,     0,   240,     0],\n",
       "       [ 9937,     5,     6, ...,     0,   276,     0]])"
      ]
     },
     "execution_count": 10,
     "metadata": {},
     "output_type": "execute_result"
    }
   ],
   "source": [
    "df"
   ]
  },
  {
   "cell_type": "markdown",
   "metadata": {},
   "source": [
    "### Split our dataset into the input features (which we call X) and the label (which we call Y)."
   ]
  },
  {
   "cell_type": "code",
   "execution_count": 11,
   "metadata": {},
   "outputs": [
    {
     "data": {
      "text/plain": [
       "array([[ 8450,     7,     5, ...,     8,     0,   548],\n",
       "       [ 9600,     6,     8, ...,     6,     1,   460],\n",
       "       [11250,     7,     5, ...,     6,     1,   608],\n",
       "       ...,\n",
       "       [ 9042,     7,     9, ...,     9,     2,   252],\n",
       "       [ 9717,     5,     6, ...,     5,     0,   240],\n",
       "       [ 9937,     5,     6, ...,     6,     0,   276]])"
      ]
     },
     "execution_count": 11,
     "metadata": {},
     "output_type": "execute_result"
    }
   ],
   "source": [
    "# all the rows and the first 9th colums\n",
    "X = df[:,0:10] \n",
    "X"
   ]
  },
  {
   "cell_type": "code",
   "execution_count": 12,
   "metadata": {},
   "outputs": [],
   "source": [
    "# All rows of the 10th colums\n",
    "Y = df[:,10]\n",
    "Y\n",
    "min_max_scaler = preprocessing.MinMaxScaler()\n",
    "X_scale = min_max_scaler.fit_transform(X)"
   ]
  },
  {
   "cell_type": "markdown",
   "metadata": {},
   "source": [
    "### Scale the data (we call this normalization) so that the input features have similar orders of magnitude.\n",
    " * function called the min-max scaler, which scales the dataset so that all the input features lie between 0 and 1 inclusive:"
   ]
  },
  {
   "cell_type": "code",
   "execution_count": 13,
   "metadata": {},
   "outputs": [],
   "source": [
    "min_max_scalar = preprocessing.MinMaxScaler()\n",
    "X_scale = min_max_scalar.fit_transform(X)\n"
   ]
  },
  {
   "cell_type": "code",
   "execution_count": 14,
   "metadata": {},
   "outputs": [
    {
     "data": {
      "text/plain": [
       "array([[0.0334198 , 0.66666667, 0.5       , ..., 0.5       , 0.        ,\n",
       "        0.3864598 ],\n",
       "       [0.03879502, 0.55555556, 0.875     , ..., 0.33333333, 0.33333333,\n",
       "        0.32440056],\n",
       "       [0.04650728, 0.66666667, 0.5       , ..., 0.33333333, 0.33333333,\n",
       "        0.42877292],\n",
       "       ...,\n",
       "       [0.03618687, 0.66666667, 1.        , ..., 0.58333333, 0.66666667,\n",
       "        0.17771509],\n",
       "       [0.03934189, 0.44444444, 0.625     , ..., 0.25      , 0.        ,\n",
       "        0.16925247],\n",
       "       [0.04037019, 0.44444444, 0.625     , ..., 0.33333333, 0.        ,\n",
       "        0.19464034]])"
      ]
     },
     "execution_count": 14,
     "metadata": {},
     "output_type": "execute_result"
    }
   ],
   "source": [
    "X_scale\n"
   ]
  },
  {
   "cell_type": "markdown",
   "metadata": {},
   "source": [
    "### Split our dataset into the training set, the validation set and the test set. "
   ]
  },
  {
   "cell_type": "code",
   "execution_count": 15,
   "metadata": {},
   "outputs": [],
   "source": [
    "# val_and_test size will be 30% of the overall dataset. \n",
    "X_train,X_val_and_test,Y_train,Y_val_and_test = train_test_split(X_scale,Y, test_size = 0.3)"
   ]
  },
  {
   "cell_type": "code",
   "execution_count": 16,
   "metadata": {},
   "outputs": [
    {
     "name": "stdout",
     "output_type": "stream",
     "text": [
      "the total dataset shape =  (1460, 11)\n",
      "X_tarin= (1022, 10)\n",
      "X_val_and_test =  (438, 10)\n",
      "Y_train = (1022,)\n",
      "Y_val_and_test= (438,)\n"
     ]
    }
   ],
   "source": [
    "print(\"the total dataset shape = \",dataset.shape)\n",
    "print(\"X_tarin=\",X_train.shape)\n",
    "print(\"X_val_and_test = \",X_val_and_test.shape)\n",
    "print(\"Y_train =\",Y_train.shape)\n",
    "print(\"Y_val_and_test=\",Y_val_and_test.shape)"
   ]
  },
  {
   "cell_type": "markdown",
   "metadata": {},
   "source": [
    "###  we want a separate validation set and test set, we can use the same function to do the split again on test:"
   ]
  },
  {
   "cell_type": "code",
   "execution_count": 17,
   "metadata": {},
   "outputs": [],
   "source": [
    "X_val,X_test,Y_val,Y_test = train_test_split(X_val_and_test,Y_val_and_test,test_size = 0.5)"
   ]
  },
  {
   "cell_type": "code",
   "execution_count": 18,
   "metadata": {},
   "outputs": [
    {
     "name": "stdout",
     "output_type": "stream",
     "text": [
      "X_val =  (219, 10)\n",
      "X_test =  (219, 10)\n",
      "Y_val=  (219,)\n",
      "Y_test =  (219,)\n"
     ]
    }
   ],
   "source": [
    "print(\"X_val = \" ,X_val.shape)\n",
    "print(\"X_test = \", X_test.shape)\n",
    "print(\"Y_val= \" , Y_val.shape)\n",
    "print(\"Y_test = \" , Y_test.shape)"
   ]
  },
  {
   "cell_type": "markdown",
   "metadata": {},
   "source": [
    "*  X_train (10 input features, 70% of full dataset)\n",
    "*  X_val (10 input features, 15% of full dataset)\n",
    "* X_test (10 input features, 15% of full dataset)\n",
    "*  Y_train (1 label, 70% of full dataset)\n",
    "*  Y_val (1 label, 15% of full dataset)\n",
    "*  Y_test (1 label, 15% of full dataset)"
   ]
  },
  {
   "cell_type": "markdown",
   "metadata": {},
   "source": [
    "# Building and Training our First Neural Network\n",
    "Coding up our first neural network :\n",
    "\n",
    "- specify the architecture with the Keras Sequential model.\n",
    "- specify some of our settings (optimizer, loss function, metrics to track) with model.compile\n",
    "- train our model (find the best parameters for our architecture) with the training data with model.fit\n",
    "- evaluate our model on the test set with model.evaluate\n",
    "\n",
    "#### Setting up the Architecture\n"
   ]
  },
  {
   "cell_type": "markdown",
   "metadata": {},
   "source": [
    "<img src = \"Image/NN.png\" style=\"width:400px;height:300px;\">\n"
   ]
  },
  {
   "cell_type": "markdown",
   "metadata": {},
   "source": [
    "* Hidden layer 1: 32 neurons, ReLU activation\n",
    "* Hidden layer 2: 32 neurons, ReLU activation\n",
    "* Output Layer: 1 neuron, Sigmoid activation"
   ]
  },
  {
   "cell_type": "code",
   "execution_count": 19,
   "metadata": {},
   "outputs": [],
   "source": [
    "model = Sequential([\n",
    "    Dense(32,activation='relu',input_shape=(10,)),\n",
    "    Dense(32,activation='relu' ),\n",
    "    Dense(1,activation='sigmoid')\n",
    "\n",
    "\n",
    "\n",
    "])"
   ]
  },
  {
   "cell_type": "code",
   "execution_count": 20,
   "metadata": {},
   "outputs": [
    {
     "name": "stdout",
     "output_type": "stream",
     "text": [
      "Model: \"sequential_1\"\n",
      "_________________________________________________________________\n",
      "Layer (type)                 Output Shape              Param #   \n",
      "=================================================================\n",
      "dense_1 (Dense)              (None, 32)                352       \n",
      "_________________________________________________________________\n",
      "dense_2 (Dense)              (None, 32)                1056      \n",
      "_________________________________________________________________\n",
      "dense_3 (Dense)              (None, 1)                 33        \n",
      "=================================================================\n",
      "Total params: 1,441\n",
      "Trainable params: 1,441\n",
      "Non-trainable params: 0\n",
      "_________________________________________________________________\n"
     ]
    }
   ],
   "source": [
    "model.summary()"
   ]
  },
  {
   "cell_type": "code",
   "execution_count": 21,
   "metadata": {},
   "outputs": [],
   "source": [
    "model.compile(optimizer='sgd',\n",
    "              loss='binary_crossentropy',\n",
    "              # track accuracy on top of the loss function. \n",
    "              metrics=['accuracy'])"
   ]
  },
  {
   "cell_type": "code",
   "execution_count": 22,
   "metadata": {},
   "outputs": [
    {
     "name": "stdout",
     "output_type": "stream",
     "text": [
      "Train on 1022 samples, validate on 219 samples\n",
      "Epoch 1/100\n",
      "1022/1022 [==============================] - 0s 321us/step - loss: 0.6694 - accuracy: 0.5098 - val_loss: 0.6613 - val_accuracy: 0.5434\n",
      "Epoch 2/100\n",
      "1022/1022 [==============================] - 0s 94us/step - loss: 0.6634 - accuracy: 0.5401 - val_loss: 0.6563 - val_accuracy: 0.5753\n",
      "Epoch 3/100\n",
      "1022/1022 [==============================] - 0s 76us/step - loss: 0.6580 - accuracy: 0.6106 - val_loss: 0.6519 - val_accuracy: 0.6530\n",
      "Epoch 4/100\n",
      "1022/1022 [==============================] - 0s 76us/step - loss: 0.6533 - accuracy: 0.6614 - val_loss: 0.6479 - val_accuracy: 0.7215\n",
      "Epoch 5/100\n",
      "1022/1022 [==============================] - 0s 100us/step - loss: 0.6489 - accuracy: 0.7182 - val_loss: 0.6440 - val_accuracy: 0.7763\n",
      "Epoch 6/100\n",
      "1022/1022 [==============================] - 0s 73us/step - loss: 0.6445 - accuracy: 0.7622 - val_loss: 0.6397 - val_accuracy: 0.7854\n",
      "Epoch 7/100\n",
      "1022/1022 [==============================] - 0s 77us/step - loss: 0.6400 - accuracy: 0.7847 - val_loss: 0.6352 - val_accuracy: 0.8082\n",
      "Epoch 8/100\n",
      "1022/1022 [==============================] - 0s 70us/step - loss: 0.6354 - accuracy: 0.7798 - val_loss: 0.6307 - val_accuracy: 0.8174\n",
      "Epoch 9/100\n",
      "1022/1022 [==============================] - 0s 88us/step - loss: 0.6304 - accuracy: 0.7965 - val_loss: 0.6258 - val_accuracy: 0.8311\n",
      "Epoch 10/100\n",
      "1022/1022 [==============================] - 0s 70us/step - loss: 0.6252 - accuracy: 0.8102 - val_loss: 0.6205 - val_accuracy: 0.8356\n",
      "Epoch 11/100\n",
      "1022/1022 [==============================] - 0s 104us/step - loss: 0.6197 - accuracy: 0.8131 - val_loss: 0.6150 - val_accuracy: 0.8402\n",
      "Epoch 12/100\n",
      "1022/1022 [==============================] - 0s 76us/step - loss: 0.6139 - accuracy: 0.8209 - val_loss: 0.6093 - val_accuracy: 0.8356\n",
      "Epoch 13/100\n",
      "1022/1022 [==============================] - 0s 75us/step - loss: 0.6079 - accuracy: 0.8297 - val_loss: 0.6028 - val_accuracy: 0.8356\n",
      "Epoch 14/100\n",
      "1022/1022 [==============================] - 0s 79us/step - loss: 0.6014 - accuracy: 0.8317 - val_loss: 0.5965 - val_accuracy: 0.8402\n",
      "Epoch 15/100\n",
      "1022/1022 [==============================] - 0s 71us/step - loss: 0.5947 - accuracy: 0.8356 - val_loss: 0.5897 - val_accuracy: 0.8402\n",
      "Epoch 16/100\n",
      "1022/1022 [==============================] - 0s 68us/step - loss: 0.5875 - accuracy: 0.8366 - val_loss: 0.5827 - val_accuracy: 0.8447\n",
      "Epoch 17/100\n",
      "1022/1022 [==============================] - 0s 75us/step - loss: 0.5802 - accuracy: 0.8415 - val_loss: 0.5753 - val_accuracy: 0.8493\n",
      "Epoch 18/100\n",
      "1022/1022 [==============================] - 0s 77us/step - loss: 0.5724 - accuracy: 0.8415 - val_loss: 0.5677 - val_accuracy: 0.8539\n",
      "Epoch 19/100\n",
      "1022/1022 [==============================] - 0s 87us/step - loss: 0.5643 - accuracy: 0.8464 - val_loss: 0.5596 - val_accuracy: 0.8539\n",
      "Epoch 20/100\n",
      "1022/1022 [==============================] - 0s 71us/step - loss: 0.5558 - accuracy: 0.8493 - val_loss: 0.5516 - val_accuracy: 0.8676\n",
      "Epoch 21/100\n",
      "1022/1022 [==============================] - 0s 93us/step - loss: 0.5473 - accuracy: 0.8523 - val_loss: 0.5431 - val_accuracy: 0.8676\n",
      "Epoch 22/100\n",
      "1022/1022 [==============================] - 0s 74us/step - loss: 0.5384 - accuracy: 0.8562 - val_loss: 0.5340 - val_accuracy: 0.8676\n",
      "Epoch 23/100\n",
      "1022/1022 [==============================] - 0s 78us/step - loss: 0.5290 - accuracy: 0.8562 - val_loss: 0.5252 - val_accuracy: 0.8676\n",
      "Epoch 24/100\n",
      "1022/1022 [==============================] - 0s 88us/step - loss: 0.5198 - accuracy: 0.8532 - val_loss: 0.5163 - val_accuracy: 0.8630\n",
      "Epoch 25/100\n",
      "1022/1022 [==============================] - 0s 69us/step - loss: 0.5103 - accuracy: 0.8562 - val_loss: 0.5069 - val_accuracy: 0.8630\n",
      "Epoch 26/100\n",
      "1022/1022 [==============================] - 0s 68us/step - loss: 0.5007 - accuracy: 0.8523 - val_loss: 0.4980 - val_accuracy: 0.8767\n",
      "Epoch 27/100\n",
      "1022/1022 [==============================] - 0s 80us/step - loss: 0.4915 - accuracy: 0.8620 - val_loss: 0.4883 - val_accuracy: 0.8676\n",
      "Epoch 28/100\n",
      "1022/1022 [==============================] - 0s 73us/step - loss: 0.4820 - accuracy: 0.8620 - val_loss: 0.4789 - val_accuracy: 0.8676\n",
      "Epoch 29/100\n",
      "1022/1022 [==============================] - 0s 84us/step - loss: 0.4727 - accuracy: 0.8591 - val_loss: 0.4697 - val_accuracy: 0.8721\n",
      "Epoch 30/100\n",
      "1022/1022 [==============================] - 0s 66us/step - loss: 0.4635 - accuracy: 0.8620 - val_loss: 0.4607 - val_accuracy: 0.8767\n",
      "Epoch 31/100\n",
      "1022/1022 [==============================] - 0s 75us/step - loss: 0.4545 - accuracy: 0.8630 - val_loss: 0.4517 - val_accuracy: 0.8767\n",
      "Epoch 32/100\n",
      "1022/1022 [==============================] - 0s 73us/step - loss: 0.4457 - accuracy: 0.8630 - val_loss: 0.4430 - val_accuracy: 0.8767\n",
      "Epoch 33/100\n",
      "1022/1022 [==============================] - 0s 83us/step - loss: 0.4373 - accuracy: 0.8659 - val_loss: 0.4345 - val_accuracy: 0.8721\n",
      "Epoch 34/100\n",
      "1022/1022 [==============================] - 0s 78us/step - loss: 0.4293 - accuracy: 0.8640 - val_loss: 0.4265 - val_accuracy: 0.8767\n",
      "Epoch 35/100\n",
      "1022/1022 [==============================] - 0s 90us/step - loss: 0.4215 - accuracy: 0.8640 - val_loss: 0.4190 - val_accuracy: 0.8813\n",
      "Epoch 36/100\n",
      "1022/1022 [==============================] - 0s 79us/step - loss: 0.4139 - accuracy: 0.8679 - val_loss: 0.4112 - val_accuracy: 0.8813\n",
      "Epoch 37/100\n",
      "1022/1022 [==============================] - 0s 79us/step - loss: 0.4067 - accuracy: 0.8689 - val_loss: 0.4042 - val_accuracy: 0.8813\n",
      "Epoch 38/100\n",
      "1022/1022 [==============================] - 0s 85us/step - loss: 0.3998 - accuracy: 0.8640 - val_loss: 0.3976 - val_accuracy: 0.8858\n",
      "Epoch 39/100\n",
      "1022/1022 [==============================] - 0s 68us/step - loss: 0.3933 - accuracy: 0.8728 - val_loss: 0.3899 - val_accuracy: 0.8813\n",
      "Epoch 40/100\n",
      "1022/1022 [==============================] - 0s 71us/step - loss: 0.3875 - accuracy: 0.8708 - val_loss: 0.3838 - val_accuracy: 0.8858\n",
      "Epoch 41/100\n",
      "1022/1022 [==============================] - 0s 68us/step - loss: 0.3815 - accuracy: 0.8699 - val_loss: 0.3782 - val_accuracy: 0.8858\n",
      "Epoch 42/100\n",
      "1022/1022 [==============================] - 0s 81us/step - loss: 0.3762 - accuracy: 0.8718 - val_loss: 0.3716 - val_accuracy: 0.8858\n",
      "Epoch 43/100\n",
      "1022/1022 [==============================] - 0s 76us/step - loss: 0.3710 - accuracy: 0.8728 - val_loss: 0.3662 - val_accuracy: 0.8858\n",
      "Epoch 44/100\n",
      "1022/1022 [==============================] - 0s 86us/step - loss: 0.3663 - accuracy: 0.8757 - val_loss: 0.3607 - val_accuracy: 0.8904\n",
      "Epoch 45/100\n",
      "1022/1022 [==============================] - 0s 73us/step - loss: 0.3619 - accuracy: 0.8748 - val_loss: 0.3557 - val_accuracy: 0.8904\n",
      "Epoch 46/100\n",
      "1022/1022 [==============================] - 0s 82us/step - loss: 0.3574 - accuracy: 0.8767 - val_loss: 0.3516 - val_accuracy: 0.8904\n",
      "Epoch 47/100\n",
      "1022/1022 [==============================] - 0s 63us/step - loss: 0.3536 - accuracy: 0.8757 - val_loss: 0.3470 - val_accuracy: 0.8904\n",
      "Epoch 48/100\n",
      "1022/1022 [==============================] - 0s 80us/step - loss: 0.3499 - accuracy: 0.8708 - val_loss: 0.3423 - val_accuracy: 0.8995\n",
      "Epoch 49/100\n",
      "1022/1022 [==============================] - 0s 67us/step - loss: 0.3461 - accuracy: 0.8777 - val_loss: 0.3388 - val_accuracy: 0.8904\n",
      "Epoch 50/100\n",
      "1022/1022 [==============================] - 0s 67us/step - loss: 0.3426 - accuracy: 0.8777 - val_loss: 0.3351 - val_accuracy: 0.8904\n",
      "Epoch 51/100\n",
      "1022/1022 [==============================] - 0s 69us/step - loss: 0.3398 - accuracy: 0.8728 - val_loss: 0.3303 - val_accuracy: 0.8950\n",
      "Epoch 52/100\n",
      "1022/1022 [==============================] - 0s 65us/step - loss: 0.3361 - accuracy: 0.8757 - val_loss: 0.3283 - val_accuracy: 0.8950\n",
      "Epoch 53/100\n",
      "1022/1022 [==============================] - 0s 69us/step - loss: 0.3338 - accuracy: 0.8757 - val_loss: 0.3236 - val_accuracy: 0.8950\n",
      "Epoch 54/100\n",
      "1022/1022 [==============================] - 0s 77us/step - loss: 0.3310 - accuracy: 0.8777 - val_loss: 0.3213 - val_accuracy: 0.9087\n",
      "Epoch 55/100\n",
      "1022/1022 [==============================] - 0s 70us/step - loss: 0.3286 - accuracy: 0.8748 - val_loss: 0.3184 - val_accuracy: 0.9087\n",
      "Epoch 56/100\n"
     ]
    },
    {
     "name": "stdout",
     "output_type": "stream",
     "text": [
      "1022/1022 [==============================] - 0s 67us/step - loss: 0.3259 - accuracy: 0.8777 - val_loss: 0.3143 - val_accuracy: 0.8995\n",
      "Epoch 57/100\n",
      "1022/1022 [==============================] - 0s 72us/step - loss: 0.3232 - accuracy: 0.8767 - val_loss: 0.3121 - val_accuracy: 0.9087\n",
      "Epoch 58/100\n",
      "1022/1022 [==============================] - 0s 93us/step - loss: 0.3209 - accuracy: 0.8777 - val_loss: 0.3083 - val_accuracy: 0.8950\n",
      "Epoch 59/100\n",
      "1022/1022 [==============================] - 0s 84us/step - loss: 0.3195 - accuracy: 0.8777 - val_loss: 0.3061 - val_accuracy: 0.9041\n",
      "Epoch 60/100\n",
      "1022/1022 [==============================] - 0s 67us/step - loss: 0.3175 - accuracy: 0.8777 - val_loss: 0.3035 - val_accuracy: 0.9041\n",
      "Epoch 61/100\n",
      "1022/1022 [==============================] - 0s 74us/step - loss: 0.3154 - accuracy: 0.8767 - val_loss: 0.3012 - val_accuracy: 0.9041\n",
      "Epoch 62/100\n",
      "1022/1022 [==============================] - 0s 69us/step - loss: 0.3138 - accuracy: 0.8777 - val_loss: 0.2992 - val_accuracy: 0.9041\n",
      "Epoch 63/100\n",
      "1022/1022 [==============================] - 0s 72us/step - loss: 0.3113 - accuracy: 0.8836 - val_loss: 0.2963 - val_accuracy: 0.8995\n",
      "Epoch 64/100\n",
      "1022/1022 [==============================] - 0s 73us/step - loss: 0.3102 - accuracy: 0.8796 - val_loss: 0.2944 - val_accuracy: 0.9041\n",
      "Epoch 65/100\n",
      "1022/1022 [==============================] - 0s 84us/step - loss: 0.3088 - accuracy: 0.8796 - val_loss: 0.2924 - val_accuracy: 0.9041\n",
      "Epoch 66/100\n",
      "1022/1022 [==============================] - 0s 73us/step - loss: 0.3078 - accuracy: 0.8777 - val_loss: 0.2908 - val_accuracy: 0.8995\n",
      "Epoch 67/100\n",
      "1022/1022 [==============================] - 0s 70us/step - loss: 0.3062 - accuracy: 0.8767 - val_loss: 0.2886 - val_accuracy: 0.9041\n",
      "Epoch 68/100\n",
      "1022/1022 [==============================] - 0s 57us/step - loss: 0.3048 - accuracy: 0.8787 - val_loss: 0.2881 - val_accuracy: 0.9041\n",
      "Epoch 69/100\n",
      "1022/1022 [==============================] - 0s 74us/step - loss: 0.3032 - accuracy: 0.8816 - val_loss: 0.2851 - val_accuracy: 0.9041\n",
      "Epoch 70/100\n",
      "1022/1022 [==============================] - 0s 74us/step - loss: 0.3015 - accuracy: 0.8826 - val_loss: 0.2832 - val_accuracy: 0.9041\n",
      "Epoch 71/100\n",
      "1022/1022 [==============================] - 0s 69us/step - loss: 0.3007 - accuracy: 0.8806 - val_loss: 0.2812 - val_accuracy: 0.9041\n",
      "Epoch 72/100\n",
      "1022/1022 [==============================] - 0s 83us/step - loss: 0.2987 - accuracy: 0.8816 - val_loss: 0.2811 - val_accuracy: 0.8995\n",
      "Epoch 73/100\n",
      "1022/1022 [==============================] - 0s 72us/step - loss: 0.2981 - accuracy: 0.8826 - val_loss: 0.2778 - val_accuracy: 0.9087\n",
      "Epoch 74/100\n",
      "1022/1022 [==============================] - 0s 71us/step - loss: 0.2976 - accuracy: 0.8796 - val_loss: 0.2774 - val_accuracy: 0.8995\n",
      "Epoch 75/100\n",
      "1022/1022 [==============================] - 0s 76us/step - loss: 0.2958 - accuracy: 0.8836 - val_loss: 0.2749 - val_accuracy: 0.9041\n",
      "Epoch 76/100\n",
      "1022/1022 [==============================] - 0s 72us/step - loss: 0.2949 - accuracy: 0.8836 - val_loss: 0.2733 - val_accuracy: 0.9087\n",
      "Epoch 77/100\n",
      "1022/1022 [==============================] - 0s 72us/step - loss: 0.2938 - accuracy: 0.8806 - val_loss: 0.2729 - val_accuracy: 0.9041\n",
      "Epoch 78/100\n",
      "1022/1022 [==============================] - 0s 84us/step - loss: 0.2928 - accuracy: 0.8836 - val_loss: 0.2725 - val_accuracy: 0.9041\n",
      "Epoch 79/100\n",
      "1022/1022 [==============================] - 0s 69us/step - loss: 0.2920 - accuracy: 0.8865 - val_loss: 0.2691 - val_accuracy: 0.9041\n",
      "Epoch 80/100\n",
      "1022/1022 [==============================] - 0s 78us/step - loss: 0.2906 - accuracy: 0.8836 - val_loss: 0.2685 - val_accuracy: 0.9041\n",
      "Epoch 81/100\n",
      "1022/1022 [==============================] - 0s 41us/step - loss: 0.2899 - accuracy: 0.8875 - val_loss: 0.2667 - val_accuracy: 0.8995\n",
      "Epoch 82/100\n",
      "1022/1022 [==============================] - 0s 63us/step - loss: 0.2892 - accuracy: 0.8836 - val_loss: 0.2654 - val_accuracy: 0.9041\n",
      "Epoch 83/100\n",
      "1022/1022 [==============================] - 0s 58us/step - loss: 0.2882 - accuracy: 0.8845 - val_loss: 0.2657 - val_accuracy: 0.9041\n",
      "Epoch 84/100\n",
      "1022/1022 [==============================] - 0s 81us/step - loss: 0.2875 - accuracy: 0.8875 - val_loss: 0.2636 - val_accuracy: 0.9041\n",
      "Epoch 85/100\n",
      "1022/1022 [==============================] - 0s 75us/step - loss: 0.2871 - accuracy: 0.8865 - val_loss: 0.2627 - val_accuracy: 0.9041\n",
      "Epoch 86/100\n",
      "1022/1022 [==============================] - 0s 78us/step - loss: 0.2855 - accuracy: 0.8826 - val_loss: 0.2632 - val_accuracy: 0.9087\n",
      "Epoch 87/100\n",
      "1022/1022 [==============================] - 0s 60us/step - loss: 0.2858 - accuracy: 0.8894 - val_loss: 0.2600 - val_accuracy: 0.9041\n",
      "Epoch 88/100\n",
      "1022/1022 [==============================] - 0s 71us/step - loss: 0.2847 - accuracy: 0.8894 - val_loss: 0.2589 - val_accuracy: 0.9041\n",
      "Epoch 89/100\n",
      "1022/1022 [==============================] - 0s 75us/step - loss: 0.2837 - accuracy: 0.8875 - val_loss: 0.2578 - val_accuracy: 0.9087\n",
      "Epoch 90/100\n",
      "1022/1022 [==============================] - 0s 36us/step - loss: 0.2827 - accuracy: 0.8875 - val_loss: 0.2583 - val_accuracy: 0.9087\n",
      "Epoch 91/100\n",
      "1022/1022 [==============================] - 0s 48us/step - loss: 0.2824 - accuracy: 0.8855 - val_loss: 0.2561 - val_accuracy: 0.9087\n",
      "Epoch 92/100\n",
      "1022/1022 [==============================] - 0s 69us/step - loss: 0.2811 - accuracy: 0.8894 - val_loss: 0.2548 - val_accuracy: 0.9087\n",
      "Epoch 93/100\n",
      "1022/1022 [==============================] - 0s 73us/step - loss: 0.2808 - accuracy: 0.8885 - val_loss: 0.2553 - val_accuracy: 0.9132\n",
      "Epoch 94/100\n",
      "1022/1022 [==============================] - 0s 71us/step - loss: 0.2802 - accuracy: 0.8865 - val_loss: 0.2556 - val_accuracy: 0.9132\n",
      "Epoch 95/100\n",
      "1022/1022 [==============================] - 0s 67us/step - loss: 0.2793 - accuracy: 0.8894 - val_loss: 0.2534 - val_accuracy: 0.9132\n",
      "Epoch 96/100\n",
      "1022/1022 [==============================] - 0s 80us/step - loss: 0.2785 - accuracy: 0.8885 - val_loss: 0.2517 - val_accuracy: 0.9132\n",
      "Epoch 97/100\n",
      "1022/1022 [==============================] - 0s 79us/step - loss: 0.2780 - accuracy: 0.8865 - val_loss: 0.2525 - val_accuracy: 0.9132\n",
      "Epoch 98/100\n",
      "1022/1022 [==============================] - 0s 59us/step - loss: 0.2771 - accuracy: 0.8875 - val_loss: 0.2495 - val_accuracy: 0.9087\n",
      "Epoch 99/100\n",
      "1022/1022 [==============================] - 0s 76us/step - loss: 0.2769 - accuracy: 0.8894 - val_loss: 0.2484 - val_accuracy: 0.9087\n",
      "Epoch 100/100\n",
      "1022/1022 [==============================] - 0s 74us/step - loss: 0.2761 - accuracy: 0.8875 - val_loss: 0.2476 - val_accuracy: 0.9087\n"
     ]
    }
   ],
   "source": [
    "hist  = model.fit(X_train, Y_train,\n",
    "          batch_size=32, epochs=100,\n",
    "          validation_data=(X_val, Y_val))"
   ]
  },
  {
   "cell_type": "code",
   "execution_count": 23,
   "metadata": {},
   "outputs": [
    {
     "name": "stdout",
     "output_type": "stream",
     "text": [
      "219/219 [==============================] - 0s 43us/step\n"
     ]
    },
    {
     "data": {
      "text/plain": [
       "[0.3108458563889543, 0.8584474921226501]"
      ]
     },
     "execution_count": 23,
     "metadata": {},
     "output_type": "execute_result"
    }
   ],
   "source": [
    "# show us loss and accuracy\n",
    "model.evaluate(X_test, Y_test)"
   ]
  },
  {
   "cell_type": "code",
   "execution_count": 24,
   "metadata": {},
   "outputs": [
    {
     "name": "stdout",
     "output_type": "stream",
     "text": [
      "219/219 [==============================] - 0s 44us/step\n"
     ]
    },
    {
     "data": {
      "text/plain": [
       "0.8584474921226501"
      ]
     },
     "execution_count": 24,
     "metadata": {},
     "output_type": "execute_result"
    }
   ],
   "source": [
    "model.evaluate(X_test, Y_test)[1]"
   ]
  },
  {
   "cell_type": "markdown",
   "metadata": {},
   "source": [
    "# Visualizing Loss and Accuracy\n",
    "##### the training loss and the validation loss."
   ]
  },
  {
   "cell_type": "code",
   "execution_count": 25,
   "metadata": {},
   "outputs": [
    {
     "data": {
      "image/png": "[encoded data removed]",
      "text/plain": [
       "<Figure size 432x288 with 1 Axes>"
      ]
     },
     "metadata": {
      "needs_background": "light"
     },
     "output_type": "display_data"
    }
   ],
   "source": [
    "plt.plot(hist.history['loss'])\n",
    "plt.plot(hist.history['val_loss'])\n",
    "plt.title('Model loss')\n",
    "plt.ylabel('Loss')\n",
    "plt.xlabel('Epoch')\n",
    "plt.legend(['Train', 'Val'], loc='upper right')\n",
    "plt.show()"
   ]
  },
  {
   "cell_type": "markdown",
   "metadata": {},
   "source": [
    " ##### plot our training accuracy and validation accuracy with the code below:"
   ]
  },
  {
   "cell_type": "code",
   "execution_count": 26,
   "metadata": {},
   "outputs": [
    {
     "data": {
      "image/png": "[encoded data removed]",
      "text/plain": [
       "<Figure size 432x288 with 1 Axes>"
      ]
     },
     "metadata": {
      "needs_background": "light"
     },
     "output_type": "display_data"
    }
   ],
   "source": [
    "plt.plot(hist.history['accuracy'])\n",
    "plt.plot(hist.history['val_accuracy'])\n",
    "plt.title('Model accuracy')\n",
    "plt.ylabel('Accuracy')\n",
    "plt.xlabel('Epoch')\n",
    "plt.legend(['Train', 'Val'], loc='lower right')\n",
    "plt.show()"
   ]
  },
  {
   "cell_type": "markdown",
   "metadata": {},
   "source": [
    "# Adding Regularization to our Neural Network"
   ]
  },
  {
   "cell_type": "code",
   "execution_count": 27,
   "metadata": {},
   "outputs": [],
   "source": [
    "model_2 = Sequential([\n",
    "    Dense(1000, activation='relu', input_shape=(10,)),\n",
    "    Dense(1000, activation='relu'),\n",
    "    Dense(1000, activation='relu'),\n",
    "    Dense(1000, activation='relu'),\n",
    "    Dense(1, activation='sigmoid'),\n",
    "])"
   ]
  },
  {
   "cell_type": "code",
   "execution_count": 28,
   "metadata": {},
   "outputs": [],
   "source": [
    "model_2.compile(optimizer='adam',\n",
    "              loss='binary_crossentropy',\n",
    "              metrics=['accuracy'])"
   ]
  },
  {
   "cell_type": "code",
   "execution_count": 29,
   "metadata": {},
   "outputs": [
    {
     "name": "stdout",
     "output_type": "stream",
     "text": [
      "Train on 1022 samples, validate on 219 samples\n",
      "Epoch 1/100\n",
      "1022/1022 [==============================] - 2s 2ms/step - loss: 0.4715 - accuracy: 0.7886 - val_loss: 0.3382 - val_accuracy: 0.8311\n",
      "Epoch 2/100\n",
      "1022/1022 [==============================] - 2s 2ms/step - loss: 0.3418 - accuracy: 0.8542 - val_loss: 0.2989 - val_accuracy: 0.8995\n",
      "Epoch 3/100\n",
      "1022/1022 [==============================] - 2s 2ms/step - loss: 0.3172 - accuracy: 0.8767 - val_loss: 0.2896 - val_accuracy: 0.8676\n",
      "Epoch 4/100\n",
      "1022/1022 [==============================] - 2s 2ms/step - loss: 0.3135 - accuracy: 0.8738 - val_loss: 0.3041 - val_accuracy: 0.8721\n",
      "Epoch 5/100\n",
      "1022/1022 [==============================] - 2s 2ms/step - loss: 0.2844 - accuracy: 0.8865 - val_loss: 0.2270 - val_accuracy: 0.9224\n",
      "Epoch 6/100\n",
      "1022/1022 [==============================] - 2s 2ms/step - loss: 0.2833 - accuracy: 0.8855 - val_loss: 0.2687 - val_accuracy: 0.8630\n",
      "Epoch 7/100\n",
      "1022/1022 [==============================] - 2s 2ms/step - loss: 0.2555 - accuracy: 0.8816 - val_loss: 0.2589 - val_accuracy: 0.8858\n",
      "Epoch 8/100\n",
      "1022/1022 [==============================] - 2s 2ms/step - loss: 0.2416 - accuracy: 0.9012 - val_loss: 0.2568 - val_accuracy: 0.8995\n",
      "Epoch 9/100\n",
      "1022/1022 [==============================] - 2s 2ms/step - loss: 0.2483 - accuracy: 0.8992 - val_loss: 0.2455 - val_accuracy: 0.9087\n",
      "Epoch 10/100\n",
      "1022/1022 [==============================] - 1s 1ms/step - loss: 0.2439 - accuracy: 0.8914 - val_loss: 0.2533 - val_accuracy: 0.8904\n",
      "Epoch 11/100\n",
      "1022/1022 [==============================] - 1s 1ms/step - loss: 0.2328 - accuracy: 0.9002 - val_loss: 0.2702 - val_accuracy: 0.9132\n",
      "Epoch 12/100\n",
      "1022/1022 [==============================] - 2s 2ms/step - loss: 0.2460 - accuracy: 0.8982 - val_loss: 0.2686 - val_accuracy: 0.9041\n",
      "Epoch 13/100\n",
      "1022/1022 [==============================] - 2s 2ms/step - loss: 0.2312 - accuracy: 0.9031 - val_loss: 0.2480 - val_accuracy: 0.9178\n",
      "Epoch 14/100\n",
      "1022/1022 [==============================] - 2s 2ms/step - loss: 0.2210 - accuracy: 0.9051 - val_loss: 0.2289 - val_accuracy: 0.9087\n",
      "Epoch 15/100\n",
      "1022/1022 [==============================] - 2s 2ms/step - loss: 0.2232 - accuracy: 0.9119 - val_loss: 0.2852 - val_accuracy: 0.8584\n",
      "Epoch 16/100\n",
      "1022/1022 [==============================] - 2s 2ms/step - loss: 0.2403 - accuracy: 0.8982 - val_loss: 0.2480 - val_accuracy: 0.9269\n",
      "Epoch 17/100\n",
      "1022/1022 [==============================] - 1s 1ms/step - loss: 0.2120 - accuracy: 0.9129 - val_loss: 0.2376 - val_accuracy: 0.9224\n",
      "Epoch 18/100\n",
      "1022/1022 [==============================] - 1s 1ms/step - loss: 0.2043 - accuracy: 0.9080 - val_loss: 0.2881 - val_accuracy: 0.8813\n",
      "Epoch 19/100\n",
      "1022/1022 [==============================] - 2s 2ms/step - loss: 0.2354 - accuracy: 0.9012 - val_loss: 0.2418 - val_accuracy: 0.8858\n",
      "Epoch 20/100\n",
      "1022/1022 [==============================] - 1s 1ms/step - loss: 0.2203 - accuracy: 0.9070 - val_loss: 0.2512 - val_accuracy: 0.8813\n",
      "Epoch 21/100\n",
      "1022/1022 [==============================] - 1s 1ms/step - loss: 0.2062 - accuracy: 0.9178 - val_loss: 0.2350 - val_accuracy: 0.9178\n",
      "Epoch 22/100\n",
      "1022/1022 [==============================] - 1s 1ms/step - loss: 0.1884 - accuracy: 0.9198 - val_loss: 0.2091 - val_accuracy: 0.9178\n",
      "Epoch 23/100\n",
      "1022/1022 [==============================] - 2s 2ms/step - loss: 0.2007 - accuracy: 0.9178 - val_loss: 0.2264 - val_accuracy: 0.9178\n",
      "Epoch 24/100\n",
      "1022/1022 [==============================] - 2s 2ms/step - loss: 0.2048 - accuracy: 0.9129 - val_loss: 0.2197 - val_accuracy: 0.9178\n",
      "Epoch 25/100\n",
      "1022/1022 [==============================] - 2s 2ms/step - loss: 0.2032 - accuracy: 0.9178 - val_loss: 0.3318 - val_accuracy: 0.8539\n",
      "Epoch 26/100\n",
      "1022/1022 [==============================] - 2s 2ms/step - loss: 0.2025 - accuracy: 0.9159 - val_loss: 0.2245 - val_accuracy: 0.9041\n",
      "Epoch 27/100\n",
      "1022/1022 [==============================] - 1s 1ms/step - loss: 0.1908 - accuracy: 0.9119 - val_loss: 0.2335 - val_accuracy: 0.8950\n",
      "Epoch 28/100\n",
      "1022/1022 [==============================] - 1s 1ms/step - loss: 0.2032 - accuracy: 0.9149 - val_loss: 0.2179 - val_accuracy: 0.9132\n",
      "Epoch 29/100\n",
      "1022/1022 [==============================] - 2s 2ms/step - loss: 0.1925 - accuracy: 0.9080 - val_loss: 0.2287 - val_accuracy: 0.9041\n",
      "Epoch 30/100\n",
      "1022/1022 [==============================] - 2s 2ms/step - loss: 0.1766 - accuracy: 0.9188 - val_loss: 0.2460 - val_accuracy: 0.9041\n",
      "Epoch 31/100\n",
      "1022/1022 [==============================] - 2s 2ms/step - loss: 0.1887 - accuracy: 0.9188 - val_loss: 0.2426 - val_accuracy: 0.8995\n",
      "Epoch 32/100\n",
      "1022/1022 [==============================] - 1s 1ms/step - loss: 0.1918 - accuracy: 0.9237 - val_loss: 0.2436 - val_accuracy: 0.9087\n",
      "Epoch 33/100\n",
      "1022/1022 [==============================] - 1s 1ms/step - loss: 0.1957 - accuracy: 0.9178 - val_loss: 0.2519 - val_accuracy: 0.9087\n",
      "Epoch 34/100\n",
      "1022/1022 [==============================] - 1s 1ms/step - loss: 0.1830 - accuracy: 0.9325 - val_loss: 0.2567 - val_accuracy: 0.9041\n",
      "Epoch 35/100\n",
      "1022/1022 [==============================] - 1s 1ms/step - loss: 0.1776 - accuracy: 0.9227 - val_loss: 0.2390 - val_accuracy: 0.9087\n",
      "Epoch 36/100\n",
      "1022/1022 [==============================] - 1s 1ms/step - loss: 0.1796 - accuracy: 0.9266 - val_loss: 0.2499 - val_accuracy: 0.8858\n",
      "Epoch 37/100\n",
      "1022/1022 [==============================] - 1s 1ms/step - loss: 0.1875 - accuracy: 0.9198 - val_loss: 0.2512 - val_accuracy: 0.9224\n",
      "Epoch 38/100\n",
      "1022/1022 [==============================] - 1s 1ms/step - loss: 0.1664 - accuracy: 0.9276 - val_loss: 0.2879 - val_accuracy: 0.9132\n",
      "Epoch 39/100\n",
      "1022/1022 [==============================] - 2s 1ms/step - loss: 0.1954 - accuracy: 0.9237 - val_loss: 0.2651 - val_accuracy: 0.9041\n",
      "Epoch 40/100\n",
      "1022/1022 [==============================] - 2s 2ms/step - loss: 0.1719 - accuracy: 0.9295 - val_loss: 0.3430 - val_accuracy: 0.8584\n",
      "Epoch 41/100\n",
      "1022/1022 [==============================] - 2s 2ms/step - loss: 0.1723 - accuracy: 0.9227 - val_loss: 0.2600 - val_accuracy: 0.9178\n",
      "Epoch 42/100\n",
      "1022/1022 [==============================] - 2s 2ms/step - loss: 0.1638 - accuracy: 0.9344 - val_loss: 0.3212 - val_accuracy: 0.9041\n",
      "Epoch 43/100\n",
      "1022/1022 [==============================] - 2s 2ms/step - loss: 0.1559 - accuracy: 0.9344 - val_loss: 0.2445 - val_accuracy: 0.8950\n",
      "Epoch 44/100\n",
      "1022/1022 [==============================] - 1s 1ms/step - loss: 0.1685 - accuracy: 0.9315 - val_loss: 0.2938 - val_accuracy: 0.8904\n",
      "Epoch 45/100\n",
      "1022/1022 [==============================] - 1s 1ms/step - loss: 0.1758 - accuracy: 0.9256 - val_loss: 0.2757 - val_accuracy: 0.8995\n",
      "Epoch 46/100\n",
      "1022/1022 [==============================] - 1s 1ms/step - loss: 0.1597 - accuracy: 0.9335 - val_loss: 0.2748 - val_accuracy: 0.9087\n",
      "Epoch 47/100\n",
      "1022/1022 [==============================] - 1s 1ms/step - loss: 0.1573 - accuracy: 0.9354 - val_loss: 0.2853 - val_accuracy: 0.9087\n",
      "Epoch 48/100\n",
      "1022/1022 [==============================] - 1s 1ms/step - loss: 0.1531 - accuracy: 0.9344 - val_loss: 0.2979 - val_accuracy: 0.8904\n",
      "Epoch 49/100\n",
      "1022/1022 [==============================] - 1s 1ms/step - loss: 0.1824 - accuracy: 0.9335 - val_loss: 0.2194 - val_accuracy: 0.8995\n",
      "Epoch 50/100\n",
      "1022/1022 [==============================] - 1s 1ms/step - loss: 0.1734 - accuracy: 0.9266 - val_loss: 0.2755 - val_accuracy: 0.9041\n",
      "Epoch 51/100\n",
      "1022/1022 [==============================] - 1s 1ms/step - loss: 0.1525 - accuracy: 0.9295 - val_loss: 0.2415 - val_accuracy: 0.9087\n",
      "Epoch 52/100\n",
      "1022/1022 [==============================] - 1s 1ms/step - loss: 0.1632 - accuracy: 0.9276 - val_loss: 0.3589 - val_accuracy: 0.8813\n",
      "Epoch 53/100\n",
      "1022/1022 [==============================] - 2s 1ms/step - loss: 0.1513 - accuracy: 0.9364 - val_loss: 0.3038 - val_accuracy: 0.8950\n",
      "Epoch 54/100\n",
      "1022/1022 [==============================] - 1s 1ms/step - loss: 0.1412 - accuracy: 0.9393 - val_loss: 0.2549 - val_accuracy: 0.9178\n",
      "Epoch 55/100\n",
      "1022/1022 [==============================] - 1s 1ms/step - loss: 0.1373 - accuracy: 0.9393 - val_loss: 0.2889 - val_accuracy: 0.8858\n",
      "Epoch 56/100\n",
      "1022/1022 [==============================] - 1s 1ms/step - loss: 0.1696 - accuracy: 0.9335 - val_loss: 0.2759 - val_accuracy: 0.9178\n"
     ]
    },
    {
     "name": "stdout",
     "output_type": "stream",
     "text": [
      "Epoch 57/100\n",
      "1022/1022 [==============================] - 1s 1ms/step - loss: 0.1533 - accuracy: 0.9315 - val_loss: 0.2848 - val_accuracy: 0.9087\n",
      "Epoch 58/100\n",
      "1022/1022 [==============================] - 1s 1ms/step - loss: 0.1436 - accuracy: 0.9403 - val_loss: 0.2807 - val_accuracy: 0.9224\n",
      "Epoch 59/100\n",
      "1022/1022 [==============================] - 1s 1ms/step - loss: 0.1403 - accuracy: 0.9452 - val_loss: 0.2858 - val_accuracy: 0.8995\n",
      "Epoch 60/100\n",
      "1022/1022 [==============================] - 1s 1ms/step - loss: 0.1321 - accuracy: 0.9472 - val_loss: 0.3261 - val_accuracy: 0.9178\n",
      "Epoch 61/100\n",
      "1022/1022 [==============================] - 1s 1ms/step - loss: 0.1385 - accuracy: 0.9432 - val_loss: 0.4843 - val_accuracy: 0.8950\n",
      "Epoch 62/100\n",
      "1022/1022 [==============================] - 1s 1ms/step - loss: 0.1745 - accuracy: 0.9276 - val_loss: 0.3002 - val_accuracy: 0.9132\n",
      "Epoch 63/100\n",
      "1022/1022 [==============================] - 1s 1ms/step - loss: 0.1636 - accuracy: 0.9325 - val_loss: 0.3600 - val_accuracy: 0.8904\n",
      "Epoch 64/100\n",
      "1022/1022 [==============================] - 1s 1ms/step - loss: 0.1360 - accuracy: 0.9462 - val_loss: 0.3096 - val_accuracy: 0.8904\n",
      "Epoch 65/100\n",
      "1022/1022 [==============================] - 1s 1ms/step - loss: 0.1311 - accuracy: 0.9462 - val_loss: 0.3438 - val_accuracy: 0.9087\n",
      "Epoch 66/100\n",
      "1022/1022 [==============================] - 2s 2ms/step - loss: 0.1247 - accuracy: 0.9472 - val_loss: 0.3412 - val_accuracy: 0.9132\n",
      "Epoch 67/100\n",
      "1022/1022 [==============================] - 2s 1ms/step - loss: 0.1791 - accuracy: 0.9384 - val_loss: 0.2769 - val_accuracy: 0.8950\n",
      "Epoch 68/100\n",
      "1022/1022 [==============================] - 2s 2ms/step - loss: 0.1613 - accuracy: 0.9305 - val_loss: 0.2294 - val_accuracy: 0.9087\n",
      "Epoch 69/100\n",
      "1022/1022 [==============================] - 2s 2ms/step - loss: 0.1328 - accuracy: 0.9413 - val_loss: 0.4905 - val_accuracy: 0.8356\n",
      "Epoch 70/100\n",
      "1022/1022 [==============================] - 2s 2ms/step - loss: 0.1578 - accuracy: 0.9384 - val_loss: 0.2757 - val_accuracy: 0.9132\n",
      "Epoch 71/100\n",
      "1022/1022 [==============================] - 2s 2ms/step - loss: 0.1245 - accuracy: 0.9472 - val_loss: 0.3142 - val_accuracy: 0.9132\n",
      "Epoch 72/100\n",
      "1022/1022 [==============================] - 2s 2ms/step - loss: 0.1292 - accuracy: 0.9501 - val_loss: 0.3104 - val_accuracy: 0.9041\n",
      "Epoch 73/100\n",
      "1022/1022 [==============================] - 2s 2ms/step - loss: 0.1227 - accuracy: 0.9521 - val_loss: 0.2870 - val_accuracy: 0.9132\n",
      "Epoch 74/100\n",
      "1022/1022 [==============================] - 2s 2ms/step - loss: 0.1418 - accuracy: 0.9481 - val_loss: 0.3149 - val_accuracy: 0.8995\n",
      "Epoch 75/100\n",
      "1022/1022 [==============================] - 2s 2ms/step - loss: 0.1423 - accuracy: 0.9413 - val_loss: 0.3642 - val_accuracy: 0.9087\n",
      "Epoch 76/100\n",
      "1022/1022 [==============================] - 2s 2ms/step - loss: 0.1171 - accuracy: 0.9579 - val_loss: 0.3474 - val_accuracy: 0.9087\n",
      "Epoch 77/100\n",
      "1022/1022 [==============================] - 1s 1ms/step - loss: 0.1217 - accuracy: 0.9540 - val_loss: 0.3307 - val_accuracy: 0.9087\n",
      "Epoch 78/100\n",
      "1022/1022 [==============================] - 1s 1ms/step - loss: 0.1638 - accuracy: 0.9364 - val_loss: 0.3042 - val_accuracy: 0.8767\n",
      "Epoch 79/100\n",
      "1022/1022 [==============================] - 2s 2ms/step - loss: 0.1413 - accuracy: 0.9442 - val_loss: 0.3507 - val_accuracy: 0.9041\n",
      "Epoch 80/100\n",
      "1022/1022 [==============================] - 2s 2ms/step - loss: 0.1308 - accuracy: 0.9521 - val_loss: 0.2904 - val_accuracy: 0.9178\n",
      "Epoch 81/100\n",
      "1022/1022 [==============================] - 2s 2ms/step - loss: 0.1058 - accuracy: 0.9609 - val_loss: 0.4498 - val_accuracy: 0.8950\n",
      "Epoch 82/100\n",
      "1022/1022 [==============================] - 2s 2ms/step - loss: 0.1491 - accuracy: 0.9452 - val_loss: 0.3432 - val_accuracy: 0.8858\n",
      "Epoch 83/100\n",
      "1022/1022 [==============================] - 2s 2ms/step - loss: 0.1409 - accuracy: 0.9393 - val_loss: 0.3015 - val_accuracy: 0.9041\n",
      "Epoch 84/100\n",
      "1022/1022 [==============================] - 2s 2ms/step - loss: 0.1243 - accuracy: 0.9521 - val_loss: 0.2504 - val_accuracy: 0.9132\n",
      "Epoch 85/100\n",
      "1022/1022 [==============================] - 2s 2ms/step - loss: 0.1048 - accuracy: 0.9599 - val_loss: 0.4020 - val_accuracy: 0.9041\n",
      "Epoch 86/100\n",
      "1022/1022 [==============================] - 1s 1ms/step - loss: 0.1167 - accuracy: 0.9540 - val_loss: 0.3056 - val_accuracy: 0.9087\n",
      "Epoch 87/100\n",
      "1022/1022 [==============================] - 1s 1ms/step - loss: 0.1145 - accuracy: 0.9511 - val_loss: 0.3598 - val_accuracy: 0.9087\n",
      "Epoch 88/100\n",
      "1022/1022 [==============================] - 1s 1ms/step - loss: 0.0982 - accuracy: 0.9618 - val_loss: 0.3346 - val_accuracy: 0.9041\n",
      "Epoch 89/100\n",
      "1022/1022 [==============================] - 1s 1ms/step - loss: 0.1109 - accuracy: 0.9550 - val_loss: 0.4739 - val_accuracy: 0.8904\n",
      "Epoch 90/100\n",
      "1022/1022 [==============================] - 1s 1ms/step - loss: 0.1253 - accuracy: 0.9481 - val_loss: 0.3456 - val_accuracy: 0.9041\n",
      "Epoch 91/100\n",
      "1022/1022 [==============================] - 1s 1ms/step - loss: 0.1283 - accuracy: 0.9540 - val_loss: 0.3549 - val_accuracy: 0.9132\n",
      "Epoch 92/100\n",
      "1022/1022 [==============================] - 1s 1ms/step - loss: 0.1033 - accuracy: 0.9589 - val_loss: 0.3523 - val_accuracy: 0.9087\n",
      "Epoch 93/100\n",
      "1022/1022 [==============================] - 1s 1ms/step - loss: 0.1020 - accuracy: 0.9550 - val_loss: 0.3480 - val_accuracy: 0.9224\n",
      "Epoch 94/100\n",
      "1022/1022 [==============================] - 2s 2ms/step - loss: 0.1124 - accuracy: 0.9511 - val_loss: 0.4189 - val_accuracy: 0.8995\n",
      "Epoch 95/100\n",
      "1022/1022 [==============================] - 2s 2ms/step - loss: 0.1138 - accuracy: 0.9569 - val_loss: 0.2942 - val_accuracy: 0.9087\n",
      "Epoch 96/100\n",
      "1022/1022 [==============================] - 2s 2ms/step - loss: 0.1041 - accuracy: 0.9599 - val_loss: 0.3848 - val_accuracy: 0.8950\n",
      "Epoch 97/100\n",
      "1022/1022 [==============================] - 2s 2ms/step - loss: 0.1073 - accuracy: 0.9540 - val_loss: 0.3138 - val_accuracy: 0.9087\n",
      "Epoch 98/100\n",
      "1022/1022 [==============================] - 2s 2ms/step - loss: 0.0988 - accuracy: 0.9589 - val_loss: 0.3271 - val_accuracy: 0.9087\n",
      "Epoch 99/100\n",
      "1022/1022 [==============================] - 2s 2ms/step - loss: 0.0928 - accuracy: 0.9648 - val_loss: 0.4402 - val_accuracy: 0.8767\n",
      "Epoch 100/100\n",
      "1022/1022 [==============================] - 2s 2ms/step - loss: 0.1046 - accuracy: 0.9579 - val_loss: 0.4044 - val_accuracy: 0.8995\n"
     ]
    }
   ],
   "source": [
    "hist_2 = model_2.fit(X_train, Y_train,\n",
    "          batch_size=32, epochs=100,\n",
    "          validation_data=(X_val, Y_val))"
   ]
  },
  {
   "cell_type": "code",
   "execution_count": 30,
   "metadata": {},
   "outputs": [
    {
     "data": {
      "image/png": "[encoded data removed]",
      "text/plain": [
       "<Figure size 432x288 with 1 Axes>"
      ]
     },
     "metadata": {
      "needs_background": "light"
     },
     "output_type": "display_data"
    }
   ],
   "source": [
    "plt.plot(hist_2.history['loss'])\n",
    "plt.plot(hist_2.history['val_loss'])\n",
    "plt.title('Model loss')\n",
    "plt.ylabel('Loss')\n",
    "plt.xlabel('Epoch')\n",
    "plt.legend(['Train', 'Val'], loc='upper right')\n",
    "plt.show()"
   ]
  },
  {
   "cell_type": "code",
   "execution_count": 31,
   "metadata": {},
   "outputs": [
    {
     "data": {
      "image/png": "[encoded data removed]",
      "text/plain": [
       "<Figure size 432x288 with 1 Axes>"
      ]
     },
     "metadata": {
      "needs_background": "light"
     },
     "output_type": "display_data"
    }
   ],
   "source": [
    "plt.plot(hist_2.history['accuracy'])\n",
    "plt.plot(hist_2.history['val_accuracy'])\n",
    "plt.title('Model accuracy')\n",
    "plt.ylabel('Accuracy')\n",
    "plt.xlabel('Epoch')\n",
    "plt.legend(['Train', 'Val'], loc='lower right')\n",
    "plt.show()"
   ]
  },
  {
   "cell_type": "markdown",
   "metadata": {},
   "source": [
    "## L2 regularization and dropout:"
   ]
  },
  {
   "cell_type": "code",
   "execution_count": 32,
   "metadata": {},
   "outputs": [],
   "source": [
    "model_3 = Sequential([\n",
    "    Dense(1000, activation='relu', kernel_regularizer=regularizers.l2(0.01), input_shape=(10,)),\n",
    "    Dropout(0.3),\n",
    "    Dense(1000, activation='relu', kernel_regularizer=regularizers.l2(0.01)),\n",
    "    Dropout(0.3),\n",
    "    Dense(1000, activation='relu', kernel_regularizer=regularizers.l2(0.01)),\n",
    "    Dropout(0.3),\n",
    "    Dense(1000, activation='relu', kernel_regularizer=regularizers.l2(0.01)),\n",
    "    Dropout(0.3),\n",
    "    Dense(1, activation='sigmoid', kernel_regularizer=regularizers.l2(0.01)),\n",
    "])"
   ]
  },
  {
   "cell_type": "code",
   "execution_count": 33,
   "metadata": {},
   "outputs": [],
   "source": [
    "model_3.compile(optimizer = \"adam\",\n",
    "                loss = \"binary_crossentropy\",\n",
    "              \n",
    "                metrics=['accuracy'])\n",
    "\n",
    "                         \n"
   ]
  },
  {
   "cell_type": "code",
   "execution_count": 34,
   "metadata": {},
   "outputs": [
    {
     "name": "stdout",
     "output_type": "stream",
     "text": [
      "Train on 1022 samples, validate on 219 samples\n",
      "Epoch 1/100\n",
      "1022/1022 [==============================] - 3s 3ms/step - loss: 14.7332 - accuracy: 0.6252 - val_loss: 4.0659 - val_accuracy: 0.8356\n",
      "Epoch 2/100\n",
      "1022/1022 [==============================] - 3s 2ms/step - loss: 1.7472 - accuracy: 0.7935 - val_loss: 0.6789 - val_accuracy: 0.8402\n",
      "Epoch 3/100\n",
      "1022/1022 [==============================] - 3s 3ms/step - loss: 0.5774 - accuracy: 0.8591 - val_loss: 0.4746 - val_accuracy: 0.8995\n",
      "Epoch 4/100\n",
      "1022/1022 [==============================] - 3s 3ms/step - loss: 0.5327 - accuracy: 0.8493 - val_loss: 0.4584 - val_accuracy: 0.8995\n",
      "Epoch 5/100\n",
      "1022/1022 [==============================] - 2s 2ms/step - loss: 0.4820 - accuracy: 0.8708 - val_loss: 0.4283 - val_accuracy: 0.9132\n",
      "Epoch 6/100\n",
      "1022/1022 [==============================] - 3s 3ms/step - loss: 0.4781 - accuracy: 0.8738 - val_loss: 0.4273 - val_accuracy: 0.8995\n",
      "Epoch 7/100\n",
      "1022/1022 [==============================] - 2s 2ms/step - loss: 0.4820 - accuracy: 0.8845 - val_loss: 0.4372 - val_accuracy: 0.9178\n",
      "Epoch 8/100\n",
      "1022/1022 [==============================] - 2s 2ms/step - loss: 0.4629 - accuracy: 0.8796 - val_loss: 0.4157 - val_accuracy: 0.9269\n",
      "Epoch 9/100\n",
      "1022/1022 [==============================] - 3s 2ms/step - loss: 0.4703 - accuracy: 0.8591 - val_loss: 0.4804 - val_accuracy: 0.8584\n",
      "Epoch 10/100\n",
      "1022/1022 [==============================] - 3s 3ms/step - loss: 0.5232 - accuracy: 0.8523 - val_loss: 0.4228 - val_accuracy: 0.9269\n",
      "Epoch 11/100\n",
      "1022/1022 [==============================] - 3s 3ms/step - loss: 0.4690 - accuracy: 0.8777 - val_loss: 0.5691 - val_accuracy: 0.8037\n",
      "Epoch 12/100\n",
      "1022/1022 [==============================] - 3s 3ms/step - loss: 0.5114 - accuracy: 0.8542 - val_loss: 0.4234 - val_accuracy: 0.9269\n",
      "Epoch 13/100\n",
      "1022/1022 [==============================] - 3s 3ms/step - loss: 0.4519 - accuracy: 0.8845 - val_loss: 0.4066 - val_accuracy: 0.9041\n",
      "Epoch 14/100\n",
      "1022/1022 [==============================] - 3s 3ms/step - loss: 0.4329 - accuracy: 0.8904 - val_loss: 0.4034 - val_accuracy: 0.8858\n",
      "Epoch 15/100\n",
      "1022/1022 [==============================] - 2s 2ms/step - loss: 0.4619 - accuracy: 0.8669 - val_loss: 0.4006 - val_accuracy: 0.9224\n",
      "Epoch 16/100\n",
      "1022/1022 [==============================] - 2s 2ms/step - loss: 0.4472 - accuracy: 0.8836 - val_loss: 0.4053 - val_accuracy: 0.8904\n",
      "Epoch 17/100\n",
      "1022/1022 [==============================] - 2s 2ms/step - loss: 0.4546 - accuracy: 0.8855 - val_loss: 0.4277 - val_accuracy: 0.8813\n",
      "Epoch 18/100\n",
      "1022/1022 [==============================] - 3s 3ms/step - loss: 0.4481 - accuracy: 0.8875 - val_loss: 0.4038 - val_accuracy: 0.8858\n",
      "Epoch 19/100\n",
      "1022/1022 [==============================] - 2s 2ms/step - loss: 0.4489 - accuracy: 0.8816 - val_loss: 0.3922 - val_accuracy: 0.9224\n",
      "Epoch 20/100\n",
      "1022/1022 [==============================] - 2s 2ms/step - loss: 0.4356 - accuracy: 0.8816 - val_loss: 0.4088 - val_accuracy: 0.8858\n",
      "Epoch 21/100\n",
      "1022/1022 [==============================] - 2s 2ms/step - loss: 0.4659 - accuracy: 0.8679 - val_loss: 0.4206 - val_accuracy: 0.9224\n",
      "Epoch 22/100\n",
      "1022/1022 [==============================] - 2s 2ms/step - loss: 0.4535 - accuracy: 0.8757 - val_loss: 0.4444 - val_accuracy: 0.8721\n",
      "Epoch 23/100\n",
      "1022/1022 [==============================] - 2s 2ms/step - loss: 0.4479 - accuracy: 0.8826 - val_loss: 0.4251 - val_accuracy: 0.8950\n",
      "Epoch 24/100\n",
      "1022/1022 [==============================] - 2s 2ms/step - loss: 0.4367 - accuracy: 0.8855 - val_loss: 0.3952 - val_accuracy: 0.9315\n",
      "Epoch 25/100\n",
      "1022/1022 [==============================] - 2s 2ms/step - loss: 0.4357 - accuracy: 0.8894 - val_loss: 0.3966 - val_accuracy: 0.9041\n",
      "Epoch 26/100\n",
      "1022/1022 [==============================] - 2s 2ms/step - loss: 0.4517 - accuracy: 0.8708 - val_loss: 0.4315 - val_accuracy: 0.8858\n",
      "Epoch 27/100\n",
      "1022/1022 [==============================] - 2s 2ms/step - loss: 0.4517 - accuracy: 0.8767 - val_loss: 0.3907 - val_accuracy: 0.9178\n",
      "Epoch 28/100\n",
      "1022/1022 [==============================] - 2s 2ms/step - loss: 0.4478 - accuracy: 0.8796 - val_loss: 0.3832 - val_accuracy: 0.9224\n",
      "Epoch 29/100\n",
      "1022/1022 [==============================] - 2s 2ms/step - loss: 0.4408 - accuracy: 0.8816 - val_loss: 0.3956 - val_accuracy: 0.9269\n",
      "Epoch 30/100\n",
      "1022/1022 [==============================] - 2s 2ms/step - loss: 0.4294 - accuracy: 0.8894 - val_loss: 0.3853 - val_accuracy: 0.9315\n",
      "Epoch 31/100\n",
      "1022/1022 [==============================] - 2s 2ms/step - loss: 0.4786 - accuracy: 0.8532 - val_loss: 0.4548 - val_accuracy: 0.8676\n",
      "Epoch 32/100\n",
      "1022/1022 [==============================] - 2s 2ms/step - loss: 0.4385 - accuracy: 0.8885 - val_loss: 0.4063 - val_accuracy: 0.9087\n",
      "Epoch 33/100\n",
      "1022/1022 [==============================] - 2s 2ms/step - loss: 0.4256 - accuracy: 0.8904 - val_loss: 0.3893 - val_accuracy: 0.9224\n",
      "Epoch 34/100\n",
      "1022/1022 [==============================] - 2s 2ms/step - loss: 0.4374 - accuracy: 0.8806 - val_loss: 0.3914 - val_accuracy: 0.9224\n",
      "Epoch 35/100\n",
      "1022/1022 [==============================] - 2s 2ms/step - loss: 0.4364 - accuracy: 0.8855 - val_loss: 0.3893 - val_accuracy: 0.9132\n",
      "Epoch 36/100\n",
      "1022/1022 [==============================] - 2s 2ms/step - loss: 0.4298 - accuracy: 0.8894 - val_loss: 0.3823 - val_accuracy: 0.9269\n",
      "Epoch 37/100\n",
      "1022/1022 [==============================] - 2s 2ms/step - loss: 0.4285 - accuracy: 0.8875 - val_loss: 0.4237 - val_accuracy: 0.9041\n",
      "Epoch 38/100\n",
      "1022/1022 [==============================] - 2s 2ms/step - loss: 0.4418 - accuracy: 0.8757 - val_loss: 0.4080 - val_accuracy: 0.8813\n",
      "Epoch 39/100\n",
      "1022/1022 [==============================] - 2s 2ms/step - loss: 0.4491 - accuracy: 0.8875 - val_loss: 0.3963 - val_accuracy: 0.9224\n",
      "Epoch 40/100\n",
      "1022/1022 [==============================] - 2s 2ms/step - loss: 0.4453 - accuracy: 0.8767 - val_loss: 0.3799 - val_accuracy: 0.9269\n",
      "Epoch 41/100\n",
      "1022/1022 [==============================] - 2s 2ms/step - loss: 0.4267 - accuracy: 0.8963 - val_loss: 0.4217 - val_accuracy: 0.9041\n",
      "Epoch 42/100\n",
      "1022/1022 [==============================] - 2s 2ms/step - loss: 0.4441 - accuracy: 0.8855 - val_loss: 0.3869 - val_accuracy: 0.8950\n",
      "Epoch 43/100\n",
      "1022/1022 [==============================] - 2s 2ms/step - loss: 0.4295 - accuracy: 0.8855 - val_loss: 0.3811 - val_accuracy: 0.9087\n",
      "Epoch 44/100\n",
      "1022/1022 [==============================] - 2s 2ms/step - loss: 0.4340 - accuracy: 0.8699 - val_loss: 0.3968 - val_accuracy: 0.9178\n",
      "Epoch 45/100\n",
      "1022/1022 [==============================] - 2s 2ms/step - loss: 0.4237 - accuracy: 0.8933 - val_loss: 0.3867 - val_accuracy: 0.9269\n",
      "Epoch 46/100\n",
      "1022/1022 [==============================] - 2s 2ms/step - loss: 0.4436 - accuracy: 0.8777 - val_loss: 0.3851 - val_accuracy: 0.9269\n",
      "Epoch 47/100\n",
      "1022/1022 [==============================] - 2s 2ms/step - loss: 0.4379 - accuracy: 0.8865 - val_loss: 0.3944 - val_accuracy: 0.9269\n",
      "Epoch 48/100\n",
      "1022/1022 [==============================] - 2s 2ms/step - loss: 0.4500 - accuracy: 0.8796 - val_loss: 0.4253 - val_accuracy: 0.8767\n",
      "Epoch 49/100\n",
      "1022/1022 [==============================] - 2s 2ms/step - loss: 0.4366 - accuracy: 0.8826 - val_loss: 0.3836 - val_accuracy: 0.9269\n",
      "Epoch 50/100\n",
      "1022/1022 [==============================] - 2s 2ms/step - loss: 0.4303 - accuracy: 0.8914 - val_loss: 0.3879 - val_accuracy: 0.9224\n",
      "Epoch 51/100\n",
      "1022/1022 [==============================] - 2s 2ms/step - loss: 0.4286 - accuracy: 0.8865 - val_loss: 0.3852 - val_accuracy: 0.8995\n",
      "Epoch 52/100\n",
      "1022/1022 [==============================] - 2s 2ms/step - loss: 0.4309 - accuracy: 0.8845 - val_loss: 0.3934 - val_accuracy: 0.9269\n",
      "Epoch 53/100\n",
      "1022/1022 [==============================] - 2s 2ms/step - loss: 0.4237 - accuracy: 0.8904 - val_loss: 0.3775 - val_accuracy: 0.9269\n",
      "Epoch 54/100\n",
      "1022/1022 [==============================] - 2s 2ms/step - loss: 0.4398 - accuracy: 0.8757 - val_loss: 0.3834 - val_accuracy: 0.9224\n",
      "Epoch 55/100\n",
      "1022/1022 [==============================] - 2s 2ms/step - loss: 0.4282 - accuracy: 0.8885 - val_loss: 0.3835 - val_accuracy: 0.9224\n",
      "Epoch 56/100\n",
      "1022/1022 [==============================] - 2s 2ms/step - loss: 0.4351 - accuracy: 0.8787 - val_loss: 0.3828 - val_accuracy: 0.8995\n"
     ]
    },
    {
     "name": "stdout",
     "output_type": "stream",
     "text": [
      "Epoch 57/100\n",
      "1022/1022 [==============================] - 2s 2ms/step - loss: 0.4430 - accuracy: 0.8836 - val_loss: 0.3809 - val_accuracy: 0.9224\n",
      "Epoch 58/100\n",
      "1022/1022 [==============================] - 2s 2ms/step - loss: 0.4265 - accuracy: 0.8894 - val_loss: 0.3779 - val_accuracy: 0.9224\n",
      "Epoch 59/100\n",
      "1022/1022 [==============================] - 2s 2ms/step - loss: 0.4407 - accuracy: 0.8845 - val_loss: 0.3785 - val_accuracy: 0.9224\n",
      "Epoch 60/100\n",
      "1022/1022 [==============================] - 2s 2ms/step - loss: 0.4455 - accuracy: 0.8806 - val_loss: 0.4431 - val_accuracy: 0.8767\n",
      "Epoch 61/100\n",
      "1022/1022 [==============================] - 2s 2ms/step - loss: 0.4363 - accuracy: 0.8904 - val_loss: 0.3855 - val_accuracy: 0.9224\n",
      "Epoch 62/100\n",
      "1022/1022 [==============================] - 2s 2ms/step - loss: 0.4240 - accuracy: 0.8894 - val_loss: 0.3816 - val_accuracy: 0.8995\n",
      "Epoch 63/100\n",
      "1022/1022 [==============================] - 2s 2ms/step - loss: 0.4298 - accuracy: 0.8885 - val_loss: 0.4201 - val_accuracy: 0.8813\n",
      "Epoch 64/100\n",
      "1022/1022 [==============================] - 2s 2ms/step - loss: 0.4438 - accuracy: 0.8816 - val_loss: 0.3825 - val_accuracy: 0.9224\n",
      "Epoch 65/100\n",
      "1022/1022 [==============================] - 2s 2ms/step - loss: 0.4313 - accuracy: 0.8933 - val_loss: 0.3839 - val_accuracy: 0.9178\n",
      "Epoch 66/100\n",
      "1022/1022 [==============================] - 2s 2ms/step - loss: 0.4560 - accuracy: 0.8748 - val_loss: 0.4648 - val_accuracy: 0.8630\n",
      "Epoch 67/100\n",
      "1022/1022 [==============================] - 2s 2ms/step - loss: 0.4426 - accuracy: 0.8865 - val_loss: 0.3865 - val_accuracy: 0.9224\n",
      "Epoch 68/100\n",
      "1022/1022 [==============================] - 2s 2ms/step - loss: 0.4503 - accuracy: 0.8787 - val_loss: 0.3925 - val_accuracy: 0.8995\n",
      "Epoch 69/100\n",
      "1022/1022 [==============================] - 2s 2ms/step - loss: 0.4252 - accuracy: 0.8826 - val_loss: 0.3777 - val_accuracy: 0.9224\n",
      "Epoch 70/100\n",
      "1022/1022 [==============================] - 2s 2ms/step - loss: 0.4263 - accuracy: 0.8875 - val_loss: 0.3797 - val_accuracy: 0.9224\n",
      "Epoch 71/100\n",
      "1022/1022 [==============================] - 2s 2ms/step - loss: 0.4171 - accuracy: 0.8933 - val_loss: 0.4105 - val_accuracy: 0.8767\n",
      "Epoch 72/100\n",
      "1022/1022 [==============================] - 2s 2ms/step - loss: 0.4359 - accuracy: 0.8836 - val_loss: 0.3796 - val_accuracy: 0.9224\n",
      "Epoch 73/100\n",
      "1022/1022 [==============================] - 2s 2ms/step - loss: 0.4395 - accuracy: 0.8679 - val_loss: 0.3813 - val_accuracy: 0.9269\n",
      "Epoch 74/100\n",
      "1022/1022 [==============================] - 2s 2ms/step - loss: 0.4366 - accuracy: 0.8855 - val_loss: 0.4074 - val_accuracy: 0.8813\n",
      "Epoch 75/100\n",
      "1022/1022 [==============================] - 2s 2ms/step - loss: 0.4517 - accuracy: 0.8777 - val_loss: 0.4003 - val_accuracy: 0.8767\n",
      "Epoch 76/100\n",
      "1022/1022 [==============================] - 2s 2ms/step - loss: 0.4514 - accuracy: 0.8699 - val_loss: 0.3821 - val_accuracy: 0.9269\n",
      "Epoch 77/100\n",
      "1022/1022 [==============================] - 2s 2ms/step - loss: 0.4301 - accuracy: 0.8875 - val_loss: 0.3866 - val_accuracy: 0.9269\n",
      "Epoch 78/100\n",
      "1022/1022 [==============================] - 2s 2ms/step - loss: 0.4379 - accuracy: 0.8767 - val_loss: 0.3909 - val_accuracy: 0.9224\n",
      "Epoch 79/100\n",
      "1022/1022 [==============================] - 2s 2ms/step - loss: 0.4409 - accuracy: 0.8855 - val_loss: 0.3976 - val_accuracy: 0.9178\n",
      "Epoch 80/100\n",
      "1022/1022 [==============================] - 2s 2ms/step - loss: 0.4294 - accuracy: 0.8963 - val_loss: 0.3782 - val_accuracy: 0.9224\n",
      "Epoch 81/100\n",
      "1022/1022 [==============================] - 2s 2ms/step - loss: 0.4308 - accuracy: 0.8865 - val_loss: 0.3821 - val_accuracy: 0.9269\n",
      "Epoch 82/100\n",
      "1022/1022 [==============================] - 3s 3ms/step - loss: 0.4446 - accuracy: 0.8875 - val_loss: 0.3782 - val_accuracy: 0.9224\n",
      "Epoch 83/100\n",
      "1022/1022 [==============================] - 3s 3ms/step - loss: 0.4526 - accuracy: 0.8728 - val_loss: 0.4553 - val_accuracy: 0.8721\n",
      "Epoch 84/100\n",
      "1022/1022 [==============================] - 2s 2ms/step - loss: 0.4474 - accuracy: 0.8806 - val_loss: 0.3774 - val_accuracy: 0.9269\n",
      "Epoch 85/100\n",
      "1022/1022 [==============================] - 3s 3ms/step - loss: 0.4258 - accuracy: 0.8865 - val_loss: 0.3896 - val_accuracy: 0.9224\n",
      "Epoch 86/100\n",
      "1022/1022 [==============================] - 3s 3ms/step - loss: 0.4328 - accuracy: 0.8885 - val_loss: 0.3770 - val_accuracy: 0.9269\n",
      "Epoch 87/100\n",
      "1022/1022 [==============================] - 2s 2ms/step - loss: 0.4270 - accuracy: 0.8963 - val_loss: 0.3834 - val_accuracy: 0.9224\n",
      "Epoch 88/100\n",
      "1022/1022 [==============================] - 2s 2ms/step - loss: 0.4639 - accuracy: 0.8689 - val_loss: 0.4407 - val_accuracy: 0.8767\n",
      "Epoch 89/100\n",
      "1022/1022 [==============================] - 2s 2ms/step - loss: 0.4415 - accuracy: 0.8836 - val_loss: 0.3838 - val_accuracy: 0.8995\n",
      "Epoch 90/100\n",
      "1022/1022 [==============================] - 2s 2ms/step - loss: 0.4344 - accuracy: 0.8904 - val_loss: 0.4010 - val_accuracy: 0.9178\n",
      "Epoch 91/100\n",
      "1022/1022 [==============================] - 2s 2ms/step - loss: 0.4407 - accuracy: 0.8855 - val_loss: 0.3887 - val_accuracy: 0.8858\n",
      "Epoch 92/100\n",
      "1022/1022 [==============================] - 2s 2ms/step - loss: 0.4440 - accuracy: 0.8816 - val_loss: 0.4087 - val_accuracy: 0.8767\n",
      "Epoch 93/100\n",
      "1022/1022 [==============================] - 2s 2ms/step - loss: 0.4268 - accuracy: 0.8826 - val_loss: 0.3760 - val_accuracy: 0.9269\n",
      "Epoch 94/100\n",
      "1022/1022 [==============================] - 2s 2ms/step - loss: 0.4324 - accuracy: 0.8806 - val_loss: 0.3934 - val_accuracy: 0.9178\n",
      "Epoch 95/100\n",
      "1022/1022 [==============================] - 2s 2ms/step - loss: 0.4573 - accuracy: 0.8679 - val_loss: 0.4594 - val_accuracy: 0.8630\n",
      "Epoch 96/100\n",
      "1022/1022 [==============================] - 2s 2ms/step - loss: 0.4455 - accuracy: 0.8836 - val_loss: 0.3821 - val_accuracy: 0.9269\n",
      "Epoch 97/100\n",
      "1022/1022 [==============================] - 2s 2ms/step - loss: 0.4262 - accuracy: 0.8933 - val_loss: 0.3865 - val_accuracy: 0.8904\n",
      "Epoch 98/100\n",
      "1022/1022 [==============================] - 2s 2ms/step - loss: 0.4341 - accuracy: 0.8875 - val_loss: 0.3898 - val_accuracy: 0.8904\n",
      "Epoch 99/100\n",
      "1022/1022 [==============================] - 2s 2ms/step - loss: 0.4476 - accuracy: 0.8718 - val_loss: 0.4020 - val_accuracy: 0.8767\n",
      "Epoch 100/100\n",
      "1022/1022 [==============================] - 2s 2ms/step - loss: 0.4346 - accuracy: 0.8836 - val_loss: 0.3813 - val_accuracy: 0.9269\n"
     ]
    }
   ],
   "source": [
    "hist_3 = model_3.fit(X_train, Y_train,\n",
    "          batch_size=32, epochs=100,\n",
    "          validation_data=(X_val, Y_val))"
   ]
  },
  {
   "cell_type": "code",
   "execution_count": 35,
   "metadata": {},
   "outputs": [
    {
     "data": {
      "image/png": "[encoded data removed]",
      "text/plain": [
       "<Figure size 432x288 with 1 Axes>"
      ]
     },
     "metadata": {
      "needs_background": "light"
     },
     "output_type": "display_data"
    }
   ],
   "source": [
    "plt.plot(hist_3.history['loss'])\n",
    "plt.plot(hist_3.history['val_loss'])\n",
    "plt.title('Model loss')\n",
    "plt.ylabel('Loss')\n",
    "plt.xlabel('Epoch')\n",
    "plt.legend(['Train', 'Val'], loc='upper right')\n",
    "plt.ylim(top=1.2, bottom=0)\n",
    "plt.show()"
   ]
  },
  {
   "cell_type": "code",
   "execution_count": 36,
   "metadata": {},
   "outputs": [
    {
     "data": {
      "image/png": "[encoded data removed]",
      "text/plain": [
       "<Figure size 432x288 with 1 Axes>"
      ]
     },
     "metadata": {
      "needs_background": "light"
     },
     "output_type": "display_data"
    }
   ],
   "source": [
    "plt.plot(hist_3.history['accuracy'])\n",
    "plt.plot(hist_3.history['val_accuracy'])\n",
    "plt.title('Model accuracy')\n",
    "plt.ylabel('Accuracy')\n",
    "plt.xlabel('Epoch')\n",
    "plt.legend(['Train', 'Val'], loc='lower right')\n",
    "plt.show()"
   ]
  },
  {
   "cell_type": "markdown",
   "metadata": {},
   "source": [
    "* Compared to our model in Model 2, we’ve reduced overfitting substantially! And that’s how we apply our regularization techniques to reduce overfitting to the training set."
   ]
  },
  {
   "cell_type": "code",
   "execution_count": null,
   "metadata": {},
   "outputs": [],
   "source": []
  }
 ],
 "metadata": {
  "kernelspec": {
   "display_name": "Python 3",
   "language": "python",
   "name": "python3"
  },
  "language_info": {
   "codemirror_mode": {
    "name": "ipython",
    "version": 3
   },
   "file_extension": ".py",
   "mimetype": "text/x-python",
   "name": "python",
   "nbconvert_exporter": "python",
   "pygments_lexer": "ipython3",
   "version": "3.7.3"
  }
 },
 "nbformat": 4,
 "nbformat_minor": 2
}
