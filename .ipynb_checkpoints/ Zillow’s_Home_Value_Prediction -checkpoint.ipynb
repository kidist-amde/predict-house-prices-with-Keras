{
 "cells": [
  {
   "cell_type": "markdown",
   "metadata": {},
   "source": [
    "### Import all the necessary modules for preprocessing the data\n"
   ]
  },
  {
   "cell_type": "code",
   "execution_count": 1,
   "metadata": {},
   "outputs": [],
   "source": [
    "import numpy as np\n",
    "import pandas as pd\n",
    "import sklearn\n",
    "from sklearn import preprocessing\n",
    "from sklearn.model_selection import train_test_split"
   ]
  },
  {
   "cell_type": "markdown",
   "metadata": {},
   "source": [
    "### Import all the necessary modules for the model"
   ]
  },
  {
   "cell_type": "code",
   "execution_count": 2,
   "metadata": {},
   "outputs": [
    {
     "name": "stderr",
     "output_type": "stream",
     "text": [
      "Using TensorFlow backend.\n",
      "/home/kidist/.local/lib/python3.7/site-packages/tensorboard/compat/tensorflow_stub/dtypes.py:541: FutureWarning: Passing (type, 1) or '1type' as a synonym of type is deprecated; in a future version of numpy, it will be understood as (type, (1,)) / '(1,)type'.\n",
      "  _np_qint8 = np.dtype([(\"qint8\", np.int8, 1)])\n",
      "/home/kidist/.local/lib/python3.7/site-packages/tensorboard/compat/tensorflow_stub/dtypes.py:542: FutureWarning: Passing (type, 1) or '1type' as a synonym of type is deprecated; in a future version of numpy, it will be understood as (type, (1,)) / '(1,)type'.\n",
      "  _np_quint8 = np.dtype([(\"quint8\", np.uint8, 1)])\n",
      "/home/kidist/.local/lib/python3.7/site-packages/tensorboard/compat/tensorflow_stub/dtypes.py:543: FutureWarning: Passing (type, 1) or '1type' as a synonym of type is deprecated; in a future version of numpy, it will be understood as (type, (1,)) / '(1,)type'.\n",
      "  _np_qint16 = np.dtype([(\"qint16\", np.int16, 1)])\n",
      "/home/kidist/.local/lib/python3.7/site-packages/tensorboard/compat/tensorflow_stub/dtypes.py:544: FutureWarning: Passing (type, 1) or '1type' as a synonym of type is deprecated; in a future version of numpy, it will be understood as (type, (1,)) / '(1,)type'.\n",
      "  _np_quint16 = np.dtype([(\"quint16\", np.uint16, 1)])\n",
      "/home/kidist/.local/lib/python3.7/site-packages/tensorboard/compat/tensorflow_stub/dtypes.py:545: FutureWarning: Passing (type, 1) or '1type' as a synonym of type is deprecated; in a future version of numpy, it will be understood as (type, (1,)) / '(1,)type'.\n",
      "  _np_qint32 = np.dtype([(\"qint32\", np.int32, 1)])\n",
      "/home/kidist/.local/lib/python3.7/site-packages/tensorboard/compat/tensorflow_stub/dtypes.py:550: FutureWarning: Passing (type, 1) or '1type' as a synonym of type is deprecated; in a future version of numpy, it will be understood as (type, (1,)) / '(1,)type'.\n",
      "  np_resource = np.dtype([(\"resource\", np.ubyte, 1)])\n"
     ]
    }
   ],
   "source": [
    "import keras\n",
    "from keras.models import Sequential\n",
    "from keras.layers import Dense\n"
   ]
  },
  {
   "cell_type": "markdown",
   "metadata": {},
   "source": [
    "### Import all the necessary modules for visualizing  loss and accuracy"
   ]
  },
  {
   "cell_type": "code",
   "execution_count": 3,
   "metadata": {},
   "outputs": [],
   "source": [
    "import matplotlib.pyplot as plt\n"
   ]
  },
  {
   "cell_type": "markdown",
   "metadata": {},
   "source": [
    "### import the code that we need for L2 regularization and dropout:"
   ]
  },
  {
   "cell_type": "code",
   "execution_count": 41,
   "metadata": {},
   "outputs": [],
   "source": [
    "from keras.layers import Dropout\n",
    "from keras import regularizers"
   ]
  },
  {
   "cell_type": "markdown",
   "metadata": {},
   "source": [
    "#  processing the data :\n",
    " - Read in the CSV (comma separated values) file and convert them to arrays.\n",
    " - Split our dataset into the input features and the label.\n",
    " - Scale the data so that the input features have similar orders of magnitude.\n",
    " - Split our dataset into the training set, the validation set and the test set."
   ]
  },
  {
   "cell_type": "markdown",
   "metadata": {},
   "source": [
    "### Read in the CSV (comma separated values) file "
   ]
  },
  {
   "cell_type": "code",
   "execution_count": 4,
   "metadata": {},
   "outputs": [],
   "source": [
    "dataset = pd.read_csv(\"housepricedata.csv\")"
   ]
  },
  {
   "cell_type": "code",
   "execution_count": 5,
   "metadata": {},
   "outputs": [
    {
     "data": {
      "text/plain": [
       "(1460, 11)"
      ]
     },
     "execution_count": 5,
     "metadata": {},
     "output_type": "execute_result"
    }
   ],
   "source": [
    "# ! ls \n",
    "dataset.shape"
   ]
  },
  {
   "cell_type": "code",
   "execution_count": 6,
   "metadata": {},
   "outputs": [
    {
     "data": {
      "text/html": [
       "<div>\n",
       "<style scoped>\n",
       "    .dataframe tbody tr th:only-of-type {\n",
       "        vertical-align: middle;\n",
       "    }\n",
       "\n",
       "    .dataframe tbody tr th {\n",
       "        vertical-align: top;\n",
       "    }\n",
       "\n",
       "    .dataframe thead th {\n",
       "        text-align: right;\n",
       "    }\n",
       "</style>\n",
       "<table border=\"1\" class=\"dataframe\">\n",
       "  <thead>\n",
       "    <tr style=\"text-align: right;\">\n",
       "      <th></th>\n",
       "      <th>LotArea</th>\n",
       "      <th>OverallQual</th>\n",
       "      <th>OverallCond</th>\n",
       "      <th>TotalBsmtSF</th>\n",
       "      <th>FullBath</th>\n",
       "      <th>HalfBath</th>\n",
       "      <th>BedroomAbvGr</th>\n",
       "      <th>TotRmsAbvGrd</th>\n",
       "      <th>Fireplaces</th>\n",
       "      <th>GarageArea</th>\n",
       "      <th>AboveMedianPrice</th>\n",
       "    </tr>\n",
       "  </thead>\n",
       "  <tbody>\n",
       "    <tr>\n",
       "      <td>0</td>\n",
       "      <td>8450</td>\n",
       "      <td>7</td>\n",
       "      <td>5</td>\n",
       "      <td>856</td>\n",
       "      <td>2</td>\n",
       "      <td>1</td>\n",
       "      <td>3</td>\n",
       "      <td>8</td>\n",
       "      <td>0</td>\n",
       "      <td>548</td>\n",
       "      <td>1</td>\n",
       "    </tr>\n",
       "    <tr>\n",
       "      <td>1</td>\n",
       "      <td>9600</td>\n",
       "      <td>6</td>\n",
       "      <td>8</td>\n",
       "      <td>1262</td>\n",
       "      <td>2</td>\n",
       "      <td>0</td>\n",
       "      <td>3</td>\n",
       "      <td>6</td>\n",
       "      <td>1</td>\n",
       "      <td>460</td>\n",
       "      <td>1</td>\n",
       "    </tr>\n",
       "    <tr>\n",
       "      <td>2</td>\n",
       "      <td>11250</td>\n",
       "      <td>7</td>\n",
       "      <td>5</td>\n",
       "      <td>920</td>\n",
       "      <td>2</td>\n",
       "      <td>1</td>\n",
       "      <td>3</td>\n",
       "      <td>6</td>\n",
       "      <td>1</td>\n",
       "      <td>608</td>\n",
       "      <td>1</td>\n",
       "    </tr>\n",
       "    <tr>\n",
       "      <td>3</td>\n",
       "      <td>9550</td>\n",
       "      <td>7</td>\n",
       "      <td>5</td>\n",
       "      <td>756</td>\n",
       "      <td>1</td>\n",
       "      <td>0</td>\n",
       "      <td>3</td>\n",
       "      <td>7</td>\n",
       "      <td>1</td>\n",
       "      <td>642</td>\n",
       "      <td>0</td>\n",
       "    </tr>\n",
       "    <tr>\n",
       "      <td>4</td>\n",
       "      <td>14260</td>\n",
       "      <td>8</td>\n",
       "      <td>5</td>\n",
       "      <td>1145</td>\n",
       "      <td>2</td>\n",
       "      <td>1</td>\n",
       "      <td>4</td>\n",
       "      <td>9</td>\n",
       "      <td>1</td>\n",
       "      <td>836</td>\n",
       "      <td>1</td>\n",
       "    </tr>\n",
       "  </tbody>\n",
       "</table>\n",
       "</div>"
      ],
      "text/plain": [
       "   LotArea  OverallQual  OverallCond  TotalBsmtSF  FullBath  HalfBath  \\\n",
       "0     8450            7            5          856         2         1   \n",
       "1     9600            6            8         1262         2         0   \n",
       "2    11250            7            5          920         2         1   \n",
       "3     9550            7            5          756         1         0   \n",
       "4    14260            8            5         1145         2         1   \n",
       "\n",
       "   BedroomAbvGr  TotRmsAbvGrd  Fireplaces  GarageArea  AboveMedianPrice  \n",
       "0             3             8           0         548                 1  \n",
       "1             3             6           1         460                 1  \n",
       "2             3             6           1         608                 1  \n",
       "3             3             7           1         642                 0  \n",
       "4             4             9           1         836                 1  "
      ]
     },
     "execution_count": 6,
     "metadata": {},
     "output_type": "execute_result"
    }
   ],
   "source": [
    "dataset.head()"
   ]
  },
  {
   "cell_type": "markdown",
   "metadata": {},
   "source": [
    "### Convert the dataset to arrays. Arrays are a data format that our algorithm can process"
   ]
  },
  {
   "cell_type": "code",
   "execution_count": 7,
   "metadata": {},
   "outputs": [
    {
     "data": {
      "text/plain": [
       "pandas.core.frame.DataFrame"
      ]
     },
     "execution_count": 7,
     "metadata": {},
     "output_type": "execute_result"
    }
   ],
   "source": [
    "type(dataset)"
   ]
  },
  {
   "cell_type": "code",
   "execution_count": 8,
   "metadata": {},
   "outputs": [
    {
     "data": {
      "text/plain": [
       "numpy.ndarray"
      ]
     },
     "execution_count": 8,
     "metadata": {},
     "output_type": "execute_result"
    }
   ],
   "source": [
    "df = dataset.values\n",
    "type(df)"
   ]
  },
  {
   "cell_type": "code",
   "execution_count": 9,
   "metadata": {},
   "outputs": [
    {
     "data": {
      "text/plain": [
       "array([[ 8450,     7,     5, ...,     0,   548,     1],\n",
       "       [ 9600,     6,     8, ...,     1,   460,     1],\n",
       "       [11250,     7,     5, ...,     1,   608,     1],\n",
       "       ...,\n",
       "       [ 9042,     7,     9, ...,     2,   252,     1],\n",
       "       [ 9717,     5,     6, ...,     0,   240,     0],\n",
       "       [ 9937,     5,     6, ...,     0,   276,     0]])"
      ]
     },
     "execution_count": 9,
     "metadata": {},
     "output_type": "execute_result"
    }
   ],
   "source": [
    "df"
   ]
  },
  {
   "cell_type": "markdown",
   "metadata": {},
   "source": [
    "### Split our dataset into the input features (which we call X) and the label (which we call Y)."
   ]
  },
  {
   "cell_type": "code",
   "execution_count": 10,
   "metadata": {},
   "outputs": [
    {
     "data": {
      "text/plain": [
       "array([[ 8450,     7,     5, ...,     8,     0,   548],\n",
       "       [ 9600,     6,     8, ...,     6,     1,   460],\n",
       "       [11250,     7,     5, ...,     6,     1,   608],\n",
       "       ...,\n",
       "       [ 9042,     7,     9, ...,     9,     2,   252],\n",
       "       [ 9717,     5,     6, ...,     5,     0,   240],\n",
       "       [ 9937,     5,     6, ...,     6,     0,   276]])"
      ]
     },
     "execution_count": 10,
     "metadata": {},
     "output_type": "execute_result"
    }
   ],
   "source": [
    "# all the rows and the first 9th colums\n",
    "X = df[:,0:10] \n",
    "X"
   ]
  },
  {
   "cell_type": "code",
   "execution_count": 11,
   "metadata": {},
   "outputs": [],
   "source": [
    "# All rows of the 10th colums\n",
    "Y = df[:,10]\n",
    "Y\n",
    "min_max_scaler = preprocessing.MinMaxScaler()\n",
    "X_scale = min_max_scaler.fit_transform(X)"
   ]
  },
  {
   "cell_type": "markdown",
   "metadata": {},
   "source": [
    "### Scale the data (we call this normalization) so that the input features have similar orders of magnitude.\n",
    " * function called the min-max scaler, which scales the dataset so that all the input features lie between 0 and 1 inclusive:"
   ]
  },
  {
   "cell_type": "code",
   "execution_count": 12,
   "metadata": {},
   "outputs": [],
   "source": [
    "min_max_scalar = preprocessing.MinMaxScaler()\n",
    "X_scale = min_max_scalar.fit_transform(X)\n"
   ]
  },
  {
   "cell_type": "code",
   "execution_count": 13,
   "metadata": {},
   "outputs": [
    {
     "data": {
      "text/plain": [
       "array([[0.0334198 , 0.66666667, 0.5       , ..., 0.5       , 0.        ,\n",
       "        0.3864598 ],\n",
       "       [0.03879502, 0.55555556, 0.875     , ..., 0.33333333, 0.33333333,\n",
       "        0.32440056],\n",
       "       [0.04650728, 0.66666667, 0.5       , ..., 0.33333333, 0.33333333,\n",
       "        0.42877292],\n",
       "       ...,\n",
       "       [0.03618687, 0.66666667, 1.        , ..., 0.58333333, 0.66666667,\n",
       "        0.17771509],\n",
       "       [0.03934189, 0.44444444, 0.625     , ..., 0.25      , 0.        ,\n",
       "        0.16925247],\n",
       "       [0.04037019, 0.44444444, 0.625     , ..., 0.33333333, 0.        ,\n",
       "        0.19464034]])"
      ]
     },
     "execution_count": 13,
     "metadata": {},
     "output_type": "execute_result"
    }
   ],
   "source": [
    "X_scale\n"
   ]
  },
  {
   "cell_type": "markdown",
   "metadata": {},
   "source": [
    "### Split our dataset into the training set, the validation set and the test set. "
   ]
  },
  {
   "cell_type": "code",
   "execution_count": 14,
   "metadata": {},
   "outputs": [],
   "source": [
    "# val_and_test size will be 30% of the overall dataset. \n",
    "X_train,X_val_and_test,Y_train,Y_val_and_test = train_test_split(X_scale,Y, test_size = 0.3)"
   ]
  },
  {
   "cell_type": "code",
   "execution_count": 15,
   "metadata": {},
   "outputs": [
    {
     "name": "stdout",
     "output_type": "stream",
     "text": [
      "the total dataset shape =  (1460, 11)\n",
      "X_tarin= (1022, 10)\n",
      "X_val_and_test =  (438, 10)\n",
      "Y_train = (1022,)\n",
      "Y_val_and_test= (438,)\n"
     ]
    }
   ],
   "source": [
    "print(\"the total dataset shape = \",dataset.shape)\n",
    "print(\"X_tarin=\",X_train.shape)\n",
    "print(\"X_val_and_test = \",X_val_and_test.shape)\n",
    "print(\"Y_train =\",Y_train.shape)\n",
    "print(\"Y_val_and_test=\",Y_val_and_test.shape)"
   ]
  },
  {
   "cell_type": "markdown",
   "metadata": {},
   "source": [
    "###  we want a separate validation set and test set, we can use the same function to do the split again on test:"
   ]
  },
  {
   "cell_type": "code",
   "execution_count": 16,
   "metadata": {},
   "outputs": [],
   "source": [
    "X_val,X_test,Y_val,Y_test = train_test_split(X_val_and_test,Y_val_and_test,test_size = 0.5)"
   ]
  },
  {
   "cell_type": "code",
   "execution_count": 17,
   "metadata": {},
   "outputs": [
    {
     "name": "stdout",
     "output_type": "stream",
     "text": [
      "X_val =  (219, 10)\n",
      "X_test =  (219, 10)\n",
      "Y_val=  (219,)\n",
      "Y_test =  (219,)\n"
     ]
    }
   ],
   "source": [
    "print(\"X_val = \" ,X_val.shape)\n",
    "print(\"X_test = \", X_test.shape)\n",
    "print(\"Y_val= \" , Y_val.shape)\n",
    "print(\"Y_test = \" , Y_test.shape)"
   ]
  },
  {
   "cell_type": "markdown",
   "metadata": {},
   "source": [
    "*  X_train (10 input features, 70% of full dataset)\n",
    "*  X_val (10 input features, 15% of full dataset)\n",
    "* X_test (10 input features, 15% of full dataset)\n",
    "*  Y_train (1 label, 70% of full dataset)\n",
    "*  Y_val (1 label, 15% of full dataset)\n",
    "*  Y_test (1 label, 15% of full dataset)"
   ]
  },
  {
   "cell_type": "markdown",
   "metadata": {},
   "source": [
    "# Building and Training our First Neural Network\n",
    "Coding up our first neural network :\n",
    "\n",
    "- specify the architecture with the Keras Sequential model.\n",
    "- specify some of our settings (optimizer, loss function, metrics to track) with model.compile\n",
    "- train our model (find the best parameters for our architecture) with the training data with model.fit\n",
    "- evaluate our model on the test set with model.evaluate\n",
    "\n",
    "#### Setting up the Architecture\n"
   ]
  },
  {
   "cell_type": "markdown",
   "metadata": {},
   "source": [
    "<img src = \"Image/NN.png\" style=\"width:400px;height:300px;\">\n"
   ]
  },
  {
   "cell_type": "markdown",
   "metadata": {},
   "source": [
    "* Hidden layer 1: 32 neurons, ReLU activation\n",
    "* Hidden layer 2: 32 neurons, ReLU activation\n",
    "* Output Layer: 1 neuron, Sigmoid activation"
   ]
  },
  {
   "cell_type": "code",
   "execution_count": 18,
   "metadata": {},
   "outputs": [],
   "source": [
    "model = Sequential([\n",
    "    Dense(32,activation='relu',input_shape=(10,)),\n",
    "    Dense(32,activation='relu' ),\n",
    "    Dense(1,activation='sigmoid')\n",
    "\n",
    "\n",
    "\n",
    "])"
   ]
  },
  {
   "cell_type": "code",
   "execution_count": 19,
   "metadata": {},
   "outputs": [
    {
     "name": "stdout",
     "output_type": "stream",
     "text": [
      "Model: \"sequential_1\"\n",
      "_________________________________________________________________\n",
      "Layer (type)                 Output Shape              Param #   \n",
      "=================================================================\n",
      "dense_1 (Dense)              (None, 32)                352       \n",
      "_________________________________________________________________\n",
      "dense_2 (Dense)              (None, 32)                1056      \n",
      "_________________________________________________________________\n",
      "dense_3 (Dense)              (None, 1)                 33        \n",
      "=================================================================\n",
      "Total params: 1,441\n",
      "Trainable params: 1,441\n",
      "Non-trainable params: 0\n",
      "_________________________________________________________________\n"
     ]
    }
   ],
   "source": [
    "model.summary()"
   ]
  },
  {
   "cell_type": "code",
   "execution_count": 20,
   "metadata": {},
   "outputs": [],
   "source": [
    "model.compile(optimizer='sgd',\n",
    "              loss='binary_crossentropy',\n",
    "              # track accuracy on top of the loss function. \n",
    "              metrics=['accuracy'])"
   ]
  },
  {
   "cell_type": "code",
   "execution_count": 21,
   "metadata": {},
   "outputs": [
    {
     "name": "stdout",
     "output_type": "stream",
     "text": [
      "Train on 1022 samples, validate on 219 samples\n",
      "Epoch 1/100\n",
      "1022/1022 [==============================] - 0s 282us/step - loss: 0.6771 - accuracy: 0.4961 - val_loss: 0.6627 - val_accuracy: 0.5251\n",
      "Epoch 2/100\n",
      "1022/1022 [==============================] - 0s 85us/step - loss: 0.6712 - accuracy: 0.4971 - val_loss: 0.6571 - val_accuracy: 0.5297\n",
      "Epoch 3/100\n",
      "1022/1022 [==============================] - 0s 80us/step - loss: 0.6655 - accuracy: 0.5029 - val_loss: 0.6518 - val_accuracy: 0.5388\n",
      "Epoch 4/100\n",
      "1022/1022 [==============================] - 0s 85us/step - loss: 0.6601 - accuracy: 0.5245 - val_loss: 0.6466 - val_accuracy: 0.6027\n",
      "Epoch 5/100\n",
      "1022/1022 [==============================] - 0s 84us/step - loss: 0.6549 - accuracy: 0.6204 - val_loss: 0.6411 - val_accuracy: 0.7078\n",
      "Epoch 6/100\n",
      "1022/1022 [==============================] - 0s 90us/step - loss: 0.6497 - accuracy: 0.6810 - val_loss: 0.6354 - val_accuracy: 0.7671\n",
      "Epoch 7/100\n",
      "1022/1022 [==============================] - 0s 66us/step - loss: 0.6443 - accuracy: 0.7260 - val_loss: 0.6296 - val_accuracy: 0.8128\n",
      "Epoch 8/100\n",
      "1022/1022 [==============================] - 0s 87us/step - loss: 0.6389 - accuracy: 0.7642 - val_loss: 0.6239 - val_accuracy: 0.8219\n",
      "Epoch 9/100\n",
      "1022/1022 [==============================] - 0s 79us/step - loss: 0.6337 - accuracy: 0.7906 - val_loss: 0.6179 - val_accuracy: 0.8265\n",
      "Epoch 10/100\n",
      "1022/1022 [==============================] - 0s 76us/step - loss: 0.6283 - accuracy: 0.8072 - val_loss: 0.6116 - val_accuracy: 0.8402\n",
      "Epoch 11/100\n",
      "1022/1022 [==============================] - 0s 92us/step - loss: 0.6228 - accuracy: 0.8151 - val_loss: 0.6053 - val_accuracy: 0.8402\n",
      "Epoch 12/100\n",
      "1022/1022 [==============================] - 0s 83us/step - loss: 0.6172 - accuracy: 0.8170 - val_loss: 0.5988 - val_accuracy: 0.8493\n",
      "Epoch 13/100\n",
      "1022/1022 [==============================] - 0s 88us/step - loss: 0.6114 - accuracy: 0.8297 - val_loss: 0.5920 - val_accuracy: 0.8447\n",
      "Epoch 14/100\n",
      "1022/1022 [==============================] - 0s 89us/step - loss: 0.6055 - accuracy: 0.8327 - val_loss: 0.5850 - val_accuracy: 0.8721\n",
      "Epoch 15/100\n",
      "1022/1022 [==============================] - 0s 83us/step - loss: 0.5991 - accuracy: 0.8376 - val_loss: 0.5777 - val_accuracy: 0.8767\n",
      "Epoch 16/100\n",
      "1022/1022 [==============================] - 0s 88us/step - loss: 0.5928 - accuracy: 0.8395 - val_loss: 0.5701 - val_accuracy: 0.8813\n",
      "Epoch 17/100\n",
      "1022/1022 [==============================] - 0s 83us/step - loss: 0.5860 - accuracy: 0.8474 - val_loss: 0.5621 - val_accuracy: 0.8813\n",
      "Epoch 18/100\n",
      "1022/1022 [==============================] - 0s 85us/step - loss: 0.5790 - accuracy: 0.8474 - val_loss: 0.5541 - val_accuracy: 0.8813\n",
      "Epoch 19/100\n",
      "1022/1022 [==============================] - 0s 86us/step - loss: 0.5717 - accuracy: 0.8571 - val_loss: 0.5451 - val_accuracy: 0.8858\n",
      "Epoch 20/100\n",
      "1022/1022 [==============================] - 0s 85us/step - loss: 0.5642 - accuracy: 0.8532 - val_loss: 0.5364 - val_accuracy: 0.8813\n",
      "Epoch 21/100\n",
      "1022/1022 [==============================] - 0s 82us/step - loss: 0.5565 - accuracy: 0.8532 - val_loss: 0.5275 - val_accuracy: 0.8767\n",
      "Epoch 22/100\n",
      "1022/1022 [==============================] - 0s 82us/step - loss: 0.5484 - accuracy: 0.8571 - val_loss: 0.5184 - val_accuracy: 0.8813\n",
      "Epoch 23/100\n",
      "1022/1022 [==============================] - 0s 88us/step - loss: 0.5403 - accuracy: 0.8640 - val_loss: 0.5085 - val_accuracy: 0.8813\n",
      "Epoch 24/100\n",
      "1022/1022 [==============================] - 0s 81us/step - loss: 0.5318 - accuracy: 0.8669 - val_loss: 0.4989 - val_accuracy: 0.8813\n",
      "Epoch 25/100\n",
      "1022/1022 [==============================] - 0s 73us/step - loss: 0.5233 - accuracy: 0.8640 - val_loss: 0.4891 - val_accuracy: 0.8858\n",
      "Epoch 26/100\n",
      "1022/1022 [==============================] - 0s 83us/step - loss: 0.5146 - accuracy: 0.8659 - val_loss: 0.4790 - val_accuracy: 0.8904\n",
      "Epoch 27/100\n",
      "1022/1022 [==============================] - 0s 75us/step - loss: 0.5059 - accuracy: 0.8669 - val_loss: 0.4688 - val_accuracy: 0.8904\n",
      "Epoch 28/100\n",
      "1022/1022 [==============================] - 0s 54us/step - loss: 0.4970 - accuracy: 0.8659 - val_loss: 0.4590 - val_accuracy: 0.8950\n",
      "Epoch 29/100\n",
      "1022/1022 [==============================] - 0s 72us/step - loss: 0.4883 - accuracy: 0.8689 - val_loss: 0.4488 - val_accuracy: 0.8904\n",
      "Epoch 30/100\n",
      "1022/1022 [==============================] - 0s 97us/step - loss: 0.4796 - accuracy: 0.8718 - val_loss: 0.4386 - val_accuracy: 0.8904\n",
      "Epoch 31/100\n",
      "1022/1022 [==============================] - 0s 75us/step - loss: 0.4711 - accuracy: 0.8728 - val_loss: 0.4292 - val_accuracy: 0.8950\n",
      "Epoch 32/100\n",
      "1022/1022 [==============================] - 0s 83us/step - loss: 0.4627 - accuracy: 0.8708 - val_loss: 0.4202 - val_accuracy: 0.8950\n",
      "Epoch 33/100\n",
      "1022/1022 [==============================] - 0s 79us/step - loss: 0.4548 - accuracy: 0.8738 - val_loss: 0.4105 - val_accuracy: 0.8950\n",
      "Epoch 34/100\n",
      "1022/1022 [==============================] - 0s 73us/step - loss: 0.4466 - accuracy: 0.8728 - val_loss: 0.4026 - val_accuracy: 0.8950\n",
      "Epoch 35/100\n",
      "1022/1022 [==============================] - 0s 85us/step - loss: 0.4389 - accuracy: 0.8718 - val_loss: 0.3919 - val_accuracy: 0.8904\n",
      "Epoch 36/100\n",
      "1022/1022 [==============================] - 0s 58us/step - loss: 0.4322 - accuracy: 0.8728 - val_loss: 0.3844 - val_accuracy: 0.8950\n",
      "Epoch 37/100\n",
      "1022/1022 [==============================] - 0s 86us/step - loss: 0.4253 - accuracy: 0.8738 - val_loss: 0.3769 - val_accuracy: 0.8950\n",
      "Epoch 38/100\n",
      "1022/1022 [==============================] - 0s 77us/step - loss: 0.4184 - accuracy: 0.8728 - val_loss: 0.3696 - val_accuracy: 0.8995\n",
      "Epoch 39/100\n",
      "1022/1022 [==============================] - 0s 76us/step - loss: 0.4117 - accuracy: 0.8728 - val_loss: 0.3612 - val_accuracy: 0.8950\n",
      "Epoch 40/100\n",
      "1022/1022 [==============================] - 0s 82us/step - loss: 0.4056 - accuracy: 0.8708 - val_loss: 0.3544 - val_accuracy: 0.8950\n",
      "Epoch 41/100\n",
      "1022/1022 [==============================] - 0s 82us/step - loss: 0.3998 - accuracy: 0.8728 - val_loss: 0.3494 - val_accuracy: 0.8950\n",
      "Epoch 42/100\n",
      "1022/1022 [==============================] - 0s 81us/step - loss: 0.3943 - accuracy: 0.8738 - val_loss: 0.3426 - val_accuracy: 0.8950\n",
      "Epoch 43/100\n",
      "1022/1022 [==============================] - 0s 78us/step - loss: 0.3889 - accuracy: 0.8738 - val_loss: 0.3358 - val_accuracy: 0.8995\n",
      "Epoch 44/100\n",
      "1022/1022 [==============================] - 0s 78us/step - loss: 0.3843 - accuracy: 0.8767 - val_loss: 0.3304 - val_accuracy: 0.8950\n",
      "Epoch 45/100\n",
      "1022/1022 [==============================] - 0s 79us/step - loss: 0.3794 - accuracy: 0.8689 - val_loss: 0.3244 - val_accuracy: 0.8995\n",
      "Epoch 46/100\n",
      "1022/1022 [==============================] - 0s 81us/step - loss: 0.3751 - accuracy: 0.8757 - val_loss: 0.3210 - val_accuracy: 0.8950\n",
      "Epoch 47/100\n",
      "1022/1022 [==============================] - 0s 79us/step - loss: 0.3708 - accuracy: 0.8708 - val_loss: 0.3171 - val_accuracy: 0.8950\n",
      "Epoch 48/100\n",
      "1022/1022 [==============================] - 0s 78us/step - loss: 0.3667 - accuracy: 0.8708 - val_loss: 0.3115 - val_accuracy: 0.8950\n",
      "Epoch 49/100\n",
      "1022/1022 [==============================] - 0s 79us/step - loss: 0.3631 - accuracy: 0.8728 - val_loss: 0.3069 - val_accuracy: 0.8950\n",
      "Epoch 50/100\n",
      "1022/1022 [==============================] - 0s 72us/step - loss: 0.3596 - accuracy: 0.8699 - val_loss: 0.3040 - val_accuracy: 0.8950\n",
      "Epoch 51/100\n",
      "1022/1022 [==============================] - 0s 74us/step - loss: 0.3559 - accuracy: 0.8689 - val_loss: 0.3025 - val_accuracy: 0.9041\n",
      "Epoch 52/100\n",
      "1022/1022 [==============================] - 0s 73us/step - loss: 0.3533 - accuracy: 0.8708 - val_loss: 0.2975 - val_accuracy: 0.8950\n",
      "Epoch 53/100\n",
      "1022/1022 [==============================] - 0s 81us/step - loss: 0.3504 - accuracy: 0.8708 - val_loss: 0.2928 - val_accuracy: 0.8950\n",
      "Epoch 54/100\n",
      "1022/1022 [==============================] - 0s 77us/step - loss: 0.3474 - accuracy: 0.8708 - val_loss: 0.2884 - val_accuracy: 0.8904\n",
      "Epoch 55/100\n",
      "1022/1022 [==============================] - 0s 82us/step - loss: 0.3447 - accuracy: 0.8679 - val_loss: 0.2856 - val_accuracy: 0.8904\n",
      "Epoch 56/100\n"
     ]
    },
    {
     "name": "stdout",
     "output_type": "stream",
     "text": [
      "1022/1022 [==============================] - 0s 87us/step - loss: 0.3427 - accuracy: 0.8699 - val_loss: 0.2839 - val_accuracy: 0.8995\n",
      "Epoch 57/100\n",
      "1022/1022 [==============================] - 0s 81us/step - loss: 0.3404 - accuracy: 0.8728 - val_loss: 0.2830 - val_accuracy: 0.9041\n",
      "Epoch 58/100\n",
      "1022/1022 [==============================] - 0s 78us/step - loss: 0.3381 - accuracy: 0.8748 - val_loss: 0.2785 - val_accuracy: 0.8995\n",
      "Epoch 59/100\n",
      "1022/1022 [==============================] - 0s 79us/step - loss: 0.3360 - accuracy: 0.8728 - val_loss: 0.2749 - val_accuracy: 0.8995\n",
      "Epoch 60/100\n",
      "1022/1022 [==============================] - 0s 80us/step - loss: 0.3336 - accuracy: 0.8728 - val_loss: 0.2760 - val_accuracy: 0.9041\n",
      "Epoch 61/100\n",
      "1022/1022 [==============================] - 0s 80us/step - loss: 0.3325 - accuracy: 0.8708 - val_loss: 0.2707 - val_accuracy: 0.8995\n",
      "Epoch 62/100\n",
      "1022/1022 [==============================] - 0s 83us/step - loss: 0.3308 - accuracy: 0.8738 - val_loss: 0.2699 - val_accuracy: 0.8995\n",
      "Epoch 63/100\n",
      "1022/1022 [==============================] - 0s 77us/step - loss: 0.3287 - accuracy: 0.8708 - val_loss: 0.2668 - val_accuracy: 0.8995\n",
      "Epoch 64/100\n",
      "1022/1022 [==============================] - 0s 80us/step - loss: 0.3270 - accuracy: 0.8738 - val_loss: 0.2646 - val_accuracy: 0.8995\n",
      "Epoch 65/100\n",
      "1022/1022 [==============================] - 0s 79us/step - loss: 0.3260 - accuracy: 0.8738 - val_loss: 0.2653 - val_accuracy: 0.8995\n",
      "Epoch 66/100\n",
      "1022/1022 [==============================] - 0s 76us/step - loss: 0.3245 - accuracy: 0.8699 - val_loss: 0.2614 - val_accuracy: 0.8995\n",
      "Epoch 67/100\n",
      "1022/1022 [==============================] - 0s 74us/step - loss: 0.3231 - accuracy: 0.8728 - val_loss: 0.2623 - val_accuracy: 0.9041\n",
      "Epoch 68/100\n",
      "1022/1022 [==============================] - 0s 82us/step - loss: 0.3207 - accuracy: 0.8738 - val_loss: 0.2574 - val_accuracy: 0.9087\n",
      "Epoch 69/100\n",
      "1022/1022 [==============================] - 0s 78us/step - loss: 0.3202 - accuracy: 0.8748 - val_loss: 0.2593 - val_accuracy: 0.9087\n",
      "Epoch 70/100\n",
      "1022/1022 [==============================] - 0s 80us/step - loss: 0.3194 - accuracy: 0.8679 - val_loss: 0.2557 - val_accuracy: 0.8995\n",
      "Epoch 71/100\n",
      "1022/1022 [==============================] - 0s 82us/step - loss: 0.3180 - accuracy: 0.8738 - val_loss: 0.2562 - val_accuracy: 0.9087\n",
      "Epoch 72/100\n",
      "1022/1022 [==============================] - 0s 81us/step - loss: 0.3169 - accuracy: 0.8738 - val_loss: 0.2538 - val_accuracy: 0.8995\n",
      "Epoch 73/100\n",
      "1022/1022 [==============================] - 0s 84us/step - loss: 0.3162 - accuracy: 0.8689 - val_loss: 0.2532 - val_accuracy: 0.9041\n",
      "Epoch 74/100\n",
      "1022/1022 [==============================] - 0s 86us/step - loss: 0.3152 - accuracy: 0.8699 - val_loss: 0.2504 - val_accuracy: 0.9087\n",
      "Epoch 75/100\n",
      "1022/1022 [==============================] - 0s 82us/step - loss: 0.3139 - accuracy: 0.8728 - val_loss: 0.2488 - val_accuracy: 0.9087\n",
      "Epoch 76/100\n",
      "1022/1022 [==============================] - 0s 80us/step - loss: 0.3127 - accuracy: 0.8738 - val_loss: 0.2500 - val_accuracy: 0.9087\n",
      "Epoch 77/100\n",
      "1022/1022 [==============================] - 0s 81us/step - loss: 0.3115 - accuracy: 0.8728 - val_loss: 0.2462 - val_accuracy: 0.9087\n",
      "Epoch 78/100\n",
      "1022/1022 [==============================] - 0s 63us/step - loss: 0.3114 - accuracy: 0.8708 - val_loss: 0.2463 - val_accuracy: 0.9132\n",
      "Epoch 79/100\n",
      "1022/1022 [==============================] - 0s 82us/step - loss: 0.3104 - accuracy: 0.8757 - val_loss: 0.2459 - val_accuracy: 0.9087\n",
      "Epoch 80/100\n",
      "1022/1022 [==============================] - 0s 83us/step - loss: 0.3090 - accuracy: 0.8748 - val_loss: 0.2442 - val_accuracy: 0.9132\n",
      "Epoch 81/100\n",
      "1022/1022 [==============================] - 0s 84us/step - loss: 0.3088 - accuracy: 0.8728 - val_loss: 0.2458 - val_accuracy: 0.9132\n",
      "Epoch 82/100\n",
      "1022/1022 [==============================] - 0s 80us/step - loss: 0.3086 - accuracy: 0.8748 - val_loss: 0.2440 - val_accuracy: 0.9132\n",
      "Epoch 83/100\n",
      "1022/1022 [==============================] - 0s 83us/step - loss: 0.3065 - accuracy: 0.8738 - val_loss: 0.2410 - val_accuracy: 0.9087\n",
      "Epoch 84/100\n",
      "1022/1022 [==============================] - 0s 80us/step - loss: 0.3065 - accuracy: 0.8777 - val_loss: 0.2428 - val_accuracy: 0.9178\n",
      "Epoch 85/100\n",
      "1022/1022 [==============================] - 0s 66us/step - loss: 0.3056 - accuracy: 0.8757 - val_loss: 0.2407 - val_accuracy: 0.9087\n",
      "Epoch 86/100\n",
      "1022/1022 [==============================] - 0s 80us/step - loss: 0.3033 - accuracy: 0.8806 - val_loss: 0.2462 - val_accuracy: 0.9132\n",
      "Epoch 87/100\n",
      "1022/1022 [==============================] - 0s 81us/step - loss: 0.3055 - accuracy: 0.8767 - val_loss: 0.2395 - val_accuracy: 0.9178\n",
      "Epoch 88/100\n",
      "1022/1022 [==============================] - 0s 78us/step - loss: 0.3034 - accuracy: 0.8757 - val_loss: 0.2384 - val_accuracy: 0.9132\n",
      "Epoch 89/100\n",
      "1022/1022 [==============================] - 0s 84us/step - loss: 0.3032 - accuracy: 0.8767 - val_loss: 0.2387 - val_accuracy: 0.9178\n",
      "Epoch 90/100\n",
      "1022/1022 [==============================] - 0s 80us/step - loss: 0.3023 - accuracy: 0.8757 - val_loss: 0.2361 - val_accuracy: 0.9178\n",
      "Epoch 91/100\n",
      "1022/1022 [==============================] - 0s 83us/step - loss: 0.3013 - accuracy: 0.8787 - val_loss: 0.2349 - val_accuracy: 0.9178\n",
      "Epoch 92/100\n",
      "1022/1022 [==============================] - 0s 80us/step - loss: 0.3007 - accuracy: 0.8748 - val_loss: 0.2367 - val_accuracy: 0.9178\n",
      "Epoch 93/100\n",
      "1022/1022 [==============================] - 0s 83us/step - loss: 0.2999 - accuracy: 0.8757 - val_loss: 0.2335 - val_accuracy: 0.9178\n",
      "Epoch 94/100\n",
      "1022/1022 [==============================] - 0s 83us/step - loss: 0.2995 - accuracy: 0.8757 - val_loss: 0.2368 - val_accuracy: 0.9178\n",
      "Epoch 95/100\n",
      "1022/1022 [==============================] - 0s 85us/step - loss: 0.2992 - accuracy: 0.8796 - val_loss: 0.2338 - val_accuracy: 0.9178\n",
      "Epoch 96/100\n",
      "1022/1022 [==============================] - 0s 77us/step - loss: 0.2982 - accuracy: 0.8767 - val_loss: 0.2331 - val_accuracy: 0.9224\n",
      "Epoch 97/100\n",
      "1022/1022 [==============================] - 0s 89us/step - loss: 0.2980 - accuracy: 0.8757 - val_loss: 0.2307 - val_accuracy: 0.9178\n",
      "Epoch 98/100\n",
      "1022/1022 [==============================] - 0s 79us/step - loss: 0.2967 - accuracy: 0.8816 - val_loss: 0.2319 - val_accuracy: 0.9224\n",
      "Epoch 99/100\n",
      "1022/1022 [==============================] - 0s 76us/step - loss: 0.2966 - accuracy: 0.8826 - val_loss: 0.2312 - val_accuracy: 0.9224\n",
      "Epoch 100/100\n",
      "1022/1022 [==============================] - 0s 71us/step - loss: 0.2962 - accuracy: 0.8777 - val_loss: 0.2284 - val_accuracy: 0.9132\n"
     ]
    }
   ],
   "source": [
    "hist  = model.fit(X_train, Y_train,\n",
    "          batch_size=32, epochs=100,\n",
    "          validation_data=(X_val, Y_val))"
   ]
  },
  {
   "cell_type": "code",
   "execution_count": 22,
   "metadata": {},
   "outputs": [
    {
     "name": "stdout",
     "output_type": "stream",
     "text": [
      "219/219 [==============================] - 0s 44us/step\n"
     ]
    },
    {
     "data": {
      "text/plain": [
       "[0.2974989399245885, 0.8767123222351074]"
      ]
     },
     "execution_count": 22,
     "metadata": {},
     "output_type": "execute_result"
    }
   ],
   "source": [
    "# show us loss and accuracy\n",
    "model.evaluate(X_test, Y_test)"
   ]
  },
  {
   "cell_type": "code",
   "execution_count": 23,
   "metadata": {},
   "outputs": [
    {
     "name": "stdout",
     "output_type": "stream",
     "text": [
      "219/219 [==============================] - 0s 37us/step\n"
     ]
    },
    {
     "data": {
      "text/plain": [
       "0.8767123222351074"
      ]
     },
     "execution_count": 23,
     "metadata": {},
     "output_type": "execute_result"
    }
   ],
   "source": [
    "model.evaluate(X_test, Y_test)[1]"
   ]
  },
  {
   "cell_type": "markdown",
   "metadata": {},
   "source": [
    "# Visualizing Loss and Accuracy\n",
    "##### the training loss and the validation loss."
   ]
  },
  {
   "cell_type": "code",
   "execution_count": 24,
   "metadata": {},
   "outputs": [
    {
     "data": {
      "image/png": "[encoded data removed]",
      "text/plain": [
       "<Figure size 432x288 with 1 Axes>"
      ]
     },
     "metadata": {
      "needs_background": "light"
     },
     "output_type": "display_data"
    }
   ],
   "source": [
    "plt.plot(hist.history['loss'])\n",
    "plt.plot(hist.history['val_loss'])\n",
    "plt.title('Model loss')\n",
    "plt.ylabel('Loss')\n",
    "plt.xlabel('Epoch')\n",
    "plt.legend(['Train', 'Val'], loc='upper right')\n",
    "plt.show()"
   ]
  },
  {
   "cell_type": "markdown",
   "metadata": {},
   "source": [
    " ##### plot our training accuracy and validation accuracy with the code below:"
   ]
  },
  {
   "cell_type": "code",
   "execution_count": 25,
   "metadata": {},
   "outputs": [
    {
     "data": {
      "image/png": "[encoded data removed]",
      "text/plain": [
       "<Figure size 432x288 with 1 Axes>"
      ]
     },
     "metadata": {
      "needs_background": "light"
     },
     "output_type": "display_data"
    }
   ],
   "source": [
    "plt.plot(hist.history['accuracy'])\n",
    "plt.plot(hist.history['val_accuracy'])\n",
    "plt.title('Model accuracy')\n",
    "plt.ylabel('Accuracy')\n",
    "plt.xlabel('Epoch')\n",
    "plt.legend(['Train', 'Val'], loc='lower right')\n",
    "plt.show()"
   ]
  },
  {
   "cell_type": "markdown",
   "metadata": {},
   "source": [
    "# Adding Regularization to our Neural Network"
   ]
  },
  {
   "cell_type": "code",
   "execution_count": 27,
   "metadata": {},
   "outputs": [],
   "source": [
    "model_2 = Sequential([\n",
    "    Dense(1000, activation='relu', input_shape=(10,)),\n",
    "    Dense(1000, activation='relu'),\n",
    "    Dense(1000, activation='relu'),\n",
    "    Dense(1000, activation='relu'),\n",
    "    Dense(1, activation='sigmoid'),\n",
    "])"
   ]
  },
  {
   "cell_type": "code",
   "execution_count": 34,
   "metadata": {},
   "outputs": [],
   "source": [
    "model_2.compile(optimizer='adam',\n",
    "              loss='binary_crossentropy',\n",
    "              metrics=['accuracy'])"
   ]
  },
  {
   "cell_type": "code",
   "execution_count": 35,
   "metadata": {},
   "outputs": [
    {
     "name": "stdout",
     "output_type": "stream",
     "text": [
      "Train on 1022 samples, validate on 219 samples\n",
      "Epoch 1/100\n",
      "1022/1022 [==============================] - 3s 3ms/step - loss: 0.5156 - accuracy: 0.7436 - val_loss: 0.3296 - val_accuracy: 0.8402\n",
      "Epoch 2/100\n",
      "1022/1022 [==============================] - 2s 2ms/step - loss: 0.3589 - accuracy: 0.8581 - val_loss: 0.2527 - val_accuracy: 0.8995\n",
      "Epoch 3/100\n",
      "1022/1022 [==============================] - 2s 2ms/step - loss: 0.3185 - accuracy: 0.8718 - val_loss: 0.2323 - val_accuracy: 0.8995\n",
      "Epoch 4/100\n",
      "1022/1022 [==============================] - 2s 2ms/step - loss: 0.3119 - accuracy: 0.8757 - val_loss: 0.2491 - val_accuracy: 0.9315\n",
      "Epoch 5/100\n",
      "1022/1022 [==============================] - 2s 2ms/step - loss: 0.2879 - accuracy: 0.8787 - val_loss: 0.2334 - val_accuracy: 0.9224\n",
      "Epoch 6/100\n",
      "1022/1022 [==============================] - 2s 2ms/step - loss: 0.2925 - accuracy: 0.8728 - val_loss: 0.2350 - val_accuracy: 0.9041\n",
      "Epoch 7/100\n",
      "1022/1022 [==============================] - 2s 2ms/step - loss: 0.2786 - accuracy: 0.8845 - val_loss: 0.2218 - val_accuracy: 0.9269\n",
      "Epoch 8/100\n",
      "1022/1022 [==============================] - 2s 2ms/step - loss: 0.2658 - accuracy: 0.8904 - val_loss: 0.2458 - val_accuracy: 0.8813\n",
      "Epoch 9/100\n",
      "1022/1022 [==============================] - 2s 2ms/step - loss: 0.2852 - accuracy: 0.8855 - val_loss: 0.2036 - val_accuracy: 0.9041\n",
      "Epoch 10/100\n",
      "1022/1022 [==============================] - 2s 2ms/step - loss: 0.2563 - accuracy: 0.8904 - val_loss: 0.2374 - val_accuracy: 0.8767\n",
      "Epoch 11/100\n",
      "1022/1022 [==============================] - 2s 2ms/step - loss: 0.2480 - accuracy: 0.8894 - val_loss: 0.1974 - val_accuracy: 0.9087\n",
      "Epoch 12/100\n",
      "1022/1022 [==============================] - 2s 2ms/step - loss: 0.2345 - accuracy: 0.9002 - val_loss: 0.1905 - val_accuracy: 0.9269\n",
      "Epoch 13/100\n",
      "1022/1022 [==============================] - 2s 2ms/step - loss: 0.2319 - accuracy: 0.9041 - val_loss: 0.1818 - val_accuracy: 0.9132\n",
      "Epoch 14/100\n",
      "1022/1022 [==============================] - 2s 2ms/step - loss: 0.2324 - accuracy: 0.9002 - val_loss: 0.2229 - val_accuracy: 0.8858\n",
      "Epoch 15/100\n",
      "1022/1022 [==============================] - 2s 2ms/step - loss: 0.2287 - accuracy: 0.9080 - val_loss: 0.1914 - val_accuracy: 0.9041\n",
      "Epoch 16/100\n",
      "1022/1022 [==============================] - 2s 2ms/step - loss: 0.2204 - accuracy: 0.9070 - val_loss: 0.1649 - val_accuracy: 0.9087\n",
      "Epoch 17/100\n",
      "1022/1022 [==============================] - 2s 2ms/step - loss: 0.2221 - accuracy: 0.9051 - val_loss: 0.2237 - val_accuracy: 0.8995\n",
      "Epoch 18/100\n",
      "1022/1022 [==============================] - 2s 2ms/step - loss: 0.2125 - accuracy: 0.9100 - val_loss: 0.2096 - val_accuracy: 0.8904\n",
      "Epoch 19/100\n",
      "1022/1022 [==============================] - 2s 2ms/step - loss: 0.2240 - accuracy: 0.9110 - val_loss: 0.2326 - val_accuracy: 0.9132\n",
      "Epoch 20/100\n",
      "1022/1022 [==============================] - 2s 2ms/step - loss: 0.2243 - accuracy: 0.9012 - val_loss: 0.2371 - val_accuracy: 0.9178\n",
      "Epoch 21/100\n",
      "1022/1022 [==============================] - 2s 2ms/step - loss: 0.2200 - accuracy: 0.9168 - val_loss: 0.2507 - val_accuracy: 0.8904\n",
      "Epoch 22/100\n",
      "1022/1022 [==============================] - 2s 2ms/step - loss: 0.2178 - accuracy: 0.9100 - val_loss: 0.1976 - val_accuracy: 0.8995\n",
      "Epoch 23/100\n",
      "1022/1022 [==============================] - 2s 2ms/step - loss: 0.2096 - accuracy: 0.9119 - val_loss: 0.1963 - val_accuracy: 0.9224\n",
      "Epoch 24/100\n",
      "1022/1022 [==============================] - 2s 2ms/step - loss: 0.2049 - accuracy: 0.9159 - val_loss: 0.1791 - val_accuracy: 0.9178\n",
      "Epoch 25/100\n",
      "1022/1022 [==============================] - 2s 2ms/step - loss: 0.2369 - accuracy: 0.8924 - val_loss: 0.2891 - val_accuracy: 0.8904\n",
      "Epoch 26/100\n",
      "1022/1022 [==============================] - 2s 2ms/step - loss: 0.2223 - accuracy: 0.9100 - val_loss: 0.1907 - val_accuracy: 0.9041\n",
      "Epoch 27/100\n",
      "1022/1022 [==============================] - 2s 2ms/step - loss: 0.2043 - accuracy: 0.9139 - val_loss: 0.1769 - val_accuracy: 0.8995\n",
      "Epoch 28/100\n",
      "1022/1022 [==============================] - 2s 2ms/step - loss: 0.2006 - accuracy: 0.9119 - val_loss: 0.1950 - val_accuracy: 0.9041\n",
      "Epoch 29/100\n",
      "1022/1022 [==============================] - 2s 2ms/step - loss: 0.2132 - accuracy: 0.9178 - val_loss: 0.1807 - val_accuracy: 0.9087\n",
      "Epoch 30/100\n",
      "1022/1022 [==============================] - 2s 2ms/step - loss: 0.2179 - accuracy: 0.9149 - val_loss: 0.2027 - val_accuracy: 0.8995\n",
      "Epoch 31/100\n",
      "1022/1022 [==============================] - 2s 2ms/step - loss: 0.2208 - accuracy: 0.8992 - val_loss: 0.1805 - val_accuracy: 0.9224\n",
      "Epoch 32/100\n",
      "1022/1022 [==============================] - 2s 2ms/step - loss: 0.2075 - accuracy: 0.9129 - val_loss: 0.1838 - val_accuracy: 0.9132\n",
      "Epoch 33/100\n",
      "1022/1022 [==============================] - 2s 2ms/step - loss: 0.1837 - accuracy: 0.9227 - val_loss: 0.1869 - val_accuracy: 0.8813\n",
      "Epoch 34/100\n",
      "1022/1022 [==============================] - 2s 2ms/step - loss: 0.1781 - accuracy: 0.9227 - val_loss: 0.1800 - val_accuracy: 0.8858\n",
      "Epoch 35/100\n",
      "1022/1022 [==============================] - 2s 2ms/step - loss: 0.1845 - accuracy: 0.9207 - val_loss: 0.2159 - val_accuracy: 0.8858\n",
      "Epoch 36/100\n",
      "1022/1022 [==============================] - 2s 2ms/step - loss: 0.1881 - accuracy: 0.9227 - val_loss: 0.2149 - val_accuracy: 0.8858\n",
      "Epoch 37/100\n",
      "1022/1022 [==============================] - 2s 2ms/step - loss: 0.2286 - accuracy: 0.9051 - val_loss: 0.1905 - val_accuracy: 0.8767\n",
      "Epoch 38/100\n",
      "1022/1022 [==============================] - 2s 2ms/step - loss: 0.2029 - accuracy: 0.9159 - val_loss: 0.1791 - val_accuracy: 0.9315\n",
      "Epoch 39/100\n",
      "1022/1022 [==============================] - 2s 2ms/step - loss: 0.1910 - accuracy: 0.9256 - val_loss: 0.1924 - val_accuracy: 0.8904\n",
      "Epoch 40/100\n",
      "1022/1022 [==============================] - 2s 2ms/step - loss: 0.1914 - accuracy: 0.9286 - val_loss: 0.2228 - val_accuracy: 0.9041\n",
      "Epoch 41/100\n",
      "1022/1022 [==============================] - 2s 2ms/step - loss: 0.1904 - accuracy: 0.9178 - val_loss: 0.1929 - val_accuracy: 0.8950\n",
      "Epoch 42/100\n",
      "1022/1022 [==============================] - 2s 2ms/step - loss: 0.2042 - accuracy: 0.9100 - val_loss: 0.1902 - val_accuracy: 0.8858\n",
      "Epoch 43/100\n",
      "1022/1022 [==============================] - 2s 2ms/step - loss: 0.1839 - accuracy: 0.9207 - val_loss: 0.1874 - val_accuracy: 0.9041\n",
      "Epoch 44/100\n",
      "1022/1022 [==============================] - 2s 2ms/step - loss: 0.1840 - accuracy: 0.9168 - val_loss: 0.1994 - val_accuracy: 0.8904\n",
      "Epoch 45/100\n",
      "1022/1022 [==============================] - 2s 2ms/step - loss: 0.1901 - accuracy: 0.9305 - val_loss: 0.2199 - val_accuracy: 0.8950\n",
      "Epoch 46/100\n",
      "1022/1022 [==============================] - 2s 2ms/step - loss: 0.1805 - accuracy: 0.9198 - val_loss: 0.1713 - val_accuracy: 0.9224\n",
      "Epoch 47/100\n",
      "1022/1022 [==============================] - 2s 2ms/step - loss: 0.1677 - accuracy: 0.9276 - val_loss: 0.2331 - val_accuracy: 0.8858\n",
      "Epoch 48/100\n",
      "1022/1022 [==============================] - 2s 2ms/step - loss: 0.1893 - accuracy: 0.9266 - val_loss: 0.2327 - val_accuracy: 0.8630\n",
      "Epoch 49/100\n",
      "1022/1022 [==============================] - 2s 2ms/step - loss: 0.1761 - accuracy: 0.9227 - val_loss: 0.1989 - val_accuracy: 0.9041\n",
      "Epoch 50/100\n",
      "1022/1022 [==============================] - 2s 2ms/step - loss: 0.1864 - accuracy: 0.9207 - val_loss: 0.2174 - val_accuracy: 0.8995\n",
      "Epoch 51/100\n",
      "1022/1022 [==============================] - 2s 2ms/step - loss: 0.2048 - accuracy: 0.9110 - val_loss: 0.2112 - val_accuracy: 0.8858\n",
      "Epoch 52/100\n",
      "1022/1022 [==============================] - 2s 2ms/step - loss: 0.1672 - accuracy: 0.9217 - val_loss: 0.2207 - val_accuracy: 0.9269\n",
      "Epoch 53/100\n",
      "1022/1022 [==============================] - 2s 2ms/step - loss: 0.1937 - accuracy: 0.9188 - val_loss: 0.2314 - val_accuracy: 0.9132\n",
      "Epoch 54/100\n",
      "1022/1022 [==============================] - 2s 2ms/step - loss: 0.1892 - accuracy: 0.9178 - val_loss: 0.2155 - val_accuracy: 0.8858\n",
      "Epoch 55/100\n",
      "1022/1022 [==============================] - 2s 2ms/step - loss: 0.1899 - accuracy: 0.9207 - val_loss: 0.2209 - val_accuracy: 0.8721\n",
      "Epoch 56/100\n",
      "1022/1022 [==============================] - 2s 2ms/step - loss: 0.1697 - accuracy: 0.9198 - val_loss: 0.2045 - val_accuracy: 0.8858\n"
     ]
    },
    {
     "name": "stdout",
     "output_type": "stream",
     "text": [
      "Epoch 57/100\n",
      "1022/1022 [==============================] - 2s 2ms/step - loss: 0.1495 - accuracy: 0.9325 - val_loss: 0.2084 - val_accuracy: 0.9224\n",
      "Epoch 58/100\n",
      "1022/1022 [==============================] - 2s 2ms/step - loss: 0.1561 - accuracy: 0.9384 - val_loss: 0.2128 - val_accuracy: 0.9041\n",
      "Epoch 59/100\n",
      "1022/1022 [==============================] - 2s 2ms/step - loss: 0.1502 - accuracy: 0.9374 - val_loss: 0.2232 - val_accuracy: 0.8904\n",
      "Epoch 60/100\n",
      "1022/1022 [==============================] - 2s 2ms/step - loss: 0.1584 - accuracy: 0.9295 - val_loss: 0.1796 - val_accuracy: 0.8995\n",
      "Epoch 61/100\n",
      "1022/1022 [==============================] - 2s 2ms/step - loss: 0.1611 - accuracy: 0.9344 - val_loss: 0.2270 - val_accuracy: 0.8995\n",
      "Epoch 62/100\n",
      "1022/1022 [==============================] - 2s 2ms/step - loss: 0.1772 - accuracy: 0.9344 - val_loss: 0.1970 - val_accuracy: 0.8995\n",
      "Epoch 63/100\n",
      "1022/1022 [==============================] - 2s 2ms/step - loss: 0.1566 - accuracy: 0.9295 - val_loss: 0.2610 - val_accuracy: 0.8858\n",
      "Epoch 64/100\n",
      "1022/1022 [==============================] - 2s 2ms/step - loss: 0.1724 - accuracy: 0.9247 - val_loss: 0.2014 - val_accuracy: 0.9041\n",
      "Epoch 65/100\n",
      "1022/1022 [==============================] - 2s 2ms/step - loss: 0.1591 - accuracy: 0.9335 - val_loss: 0.2119 - val_accuracy: 0.8995\n",
      "Epoch 66/100\n",
      "1022/1022 [==============================] - 2s 2ms/step - loss: 0.1558 - accuracy: 0.9305 - val_loss: 0.2380 - val_accuracy: 0.8995\n",
      "Epoch 67/100\n",
      "1022/1022 [==============================] - 3s 3ms/step - loss: 0.1396 - accuracy: 0.9423 - val_loss: 0.2286 - val_accuracy: 0.8904\n",
      "Epoch 68/100\n",
      "1022/1022 [==============================] - 3s 3ms/step - loss: 0.1441 - accuracy: 0.9423 - val_loss: 0.2403 - val_accuracy: 0.8995\n",
      "Epoch 69/100\n",
      "1022/1022 [==============================] - 3s 3ms/step - loss: 0.1433 - accuracy: 0.9374 - val_loss: 0.2475 - val_accuracy: 0.8858\n",
      "Epoch 70/100\n",
      "1022/1022 [==============================] - 3s 3ms/step - loss: 0.1372 - accuracy: 0.9462 - val_loss: 0.2352 - val_accuracy: 0.8858\n",
      "Epoch 71/100\n",
      "1022/1022 [==============================] - 3s 3ms/step - loss: 0.1608 - accuracy: 0.9315 - val_loss: 0.2077 - val_accuracy: 0.9087\n",
      "Epoch 72/100\n",
      "1022/1022 [==============================] - 3s 3ms/step - loss: 0.1230 - accuracy: 0.9472 - val_loss: 0.2674 - val_accuracy: 0.8858\n",
      "Epoch 73/100\n",
      "1022/1022 [==============================] - 3s 3ms/step - loss: 0.1337 - accuracy: 0.9462 - val_loss: 0.2601 - val_accuracy: 0.8950\n",
      "Epoch 74/100\n",
      "1022/1022 [==============================] - 3s 3ms/step - loss: 0.1368 - accuracy: 0.9442 - val_loss: 0.2631 - val_accuracy: 0.8721\n",
      "Epoch 75/100\n",
      "1022/1022 [==============================] - 3s 3ms/step - loss: 0.1553 - accuracy: 0.9374 - val_loss: 0.2499 - val_accuracy: 0.8950\n",
      "Epoch 76/100\n",
      "1022/1022 [==============================] - 3s 3ms/step - loss: 0.1218 - accuracy: 0.9481 - val_loss: 0.2268 - val_accuracy: 0.8950\n",
      "Epoch 77/100\n",
      "1022/1022 [==============================] - 3s 3ms/step - loss: 0.1320 - accuracy: 0.9423 - val_loss: 0.3016 - val_accuracy: 0.8676\n",
      "Epoch 78/100\n",
      "1022/1022 [==============================] - 3s 3ms/step - loss: 0.1490 - accuracy: 0.9276 - val_loss: 0.2175 - val_accuracy: 0.8858\n",
      "Epoch 79/100\n",
      "1022/1022 [==============================] - 2s 2ms/step - loss: 0.1672 - accuracy: 0.9286 - val_loss: 0.2270 - val_accuracy: 0.8813\n",
      "Epoch 80/100\n",
      "1022/1022 [==============================] - 2s 2ms/step - loss: 0.1343 - accuracy: 0.9481 - val_loss: 0.2448 - val_accuracy: 0.8767\n",
      "Epoch 81/100\n",
      "1022/1022 [==============================] - 2s 2ms/step - loss: 0.1266 - accuracy: 0.9511 - val_loss: 0.3164 - val_accuracy: 0.8767\n",
      "Epoch 82/100\n",
      "1022/1022 [==============================] - 3s 2ms/step - loss: 0.1543 - accuracy: 0.9413 - val_loss: 0.2116 - val_accuracy: 0.8904\n",
      "Epoch 83/100\n",
      "1022/1022 [==============================] - 2s 2ms/step - loss: 0.1490 - accuracy: 0.9393 - val_loss: 0.2575 - val_accuracy: 0.8813\n",
      "Epoch 84/100\n",
      "1022/1022 [==============================] - 3s 2ms/step - loss: 0.1258 - accuracy: 0.9472 - val_loss: 0.2517 - val_accuracy: 0.8813\n",
      "Epoch 85/100\n",
      "1022/1022 [==============================] - 2s 2ms/step - loss: 0.1245 - accuracy: 0.9560 - val_loss: 0.2726 - val_accuracy: 0.8721\n",
      "Epoch 86/100\n",
      "1022/1022 [==============================] - 2s 2ms/step - loss: 0.1217 - accuracy: 0.9501 - val_loss: 0.3071 - val_accuracy: 0.8813\n",
      "Epoch 87/100\n",
      "1022/1022 [==============================] - 3s 3ms/step - loss: 0.1144 - accuracy: 0.9530 - val_loss: 0.2696 - val_accuracy: 0.8950\n",
      "Epoch 88/100\n",
      "1022/1022 [==============================] - 2s 2ms/step - loss: 0.1395 - accuracy: 0.9432 - val_loss: 0.2461 - val_accuracy: 0.8904\n",
      "Epoch 89/100\n",
      "1022/1022 [==============================] - 2s 2ms/step - loss: 0.1138 - accuracy: 0.9560 - val_loss: 0.3187 - val_accuracy: 0.8813\n",
      "Epoch 90/100\n",
      "1022/1022 [==============================] - 3s 2ms/step - loss: 0.1333 - accuracy: 0.9442 - val_loss: 0.2352 - val_accuracy: 0.8950\n",
      "Epoch 91/100\n",
      "1022/1022 [==============================] - 3s 3ms/step - loss: 0.1054 - accuracy: 0.9589 - val_loss: 0.3138 - val_accuracy: 0.9087\n",
      "Epoch 92/100\n",
      "1022/1022 [==============================] - 3s 3ms/step - loss: 0.1121 - accuracy: 0.9589 - val_loss: 0.4125 - val_accuracy: 0.8767\n",
      "Epoch 93/100\n",
      "1022/1022 [==============================] - 3s 3ms/step - loss: 0.1512 - accuracy: 0.9384 - val_loss: 0.2928 - val_accuracy: 0.8767\n",
      "Epoch 94/100\n",
      "1022/1022 [==============================] - 3s 3ms/step - loss: 0.1302 - accuracy: 0.9491 - val_loss: 0.2371 - val_accuracy: 0.8995\n",
      "Epoch 95/100\n",
      "1022/1022 [==============================] - 3s 3ms/step - loss: 0.1056 - accuracy: 0.9589 - val_loss: 0.2579 - val_accuracy: 0.8995\n",
      "Epoch 96/100\n",
      "1022/1022 [==============================] - 3s 3ms/step - loss: 0.1056 - accuracy: 0.9560 - val_loss: 0.2642 - val_accuracy: 0.8950\n",
      "Epoch 97/100\n",
      "1022/1022 [==============================] - 3s 3ms/step - loss: 0.1209 - accuracy: 0.9540 - val_loss: 0.2884 - val_accuracy: 0.8813\n",
      "Epoch 98/100\n",
      "1022/1022 [==============================] - 2s 2ms/step - loss: 0.1572 - accuracy: 0.9472 - val_loss: 0.2601 - val_accuracy: 0.8813\n",
      "Epoch 99/100\n",
      "1022/1022 [==============================] - 2s 2ms/step - loss: 0.1139 - accuracy: 0.9560 - val_loss: 0.3044 - val_accuracy: 0.8904\n",
      "Epoch 100/100\n",
      "1022/1022 [==============================] - 2s 2ms/step - loss: 0.0986 - accuracy: 0.9599 - val_loss: 0.3018 - val_accuracy: 0.8721\n"
     ]
    }
   ],
   "source": [
    "hist_2 = model_2.fit(X_train, Y_train,\n",
    "          batch_size=32, epochs=100,\n",
    "          validation_data=(X_val, Y_val))"
   ]
  },
  {
   "cell_type": "code",
   "execution_count": 36,
   "metadata": {},
   "outputs": [
    {
     "data": {
      "image/png": "[encoded data removed]",
      "text/plain": [
       "<Figure size 432x288 with 1 Axes>"
      ]
     },
     "metadata": {
      "needs_background": "light"
     },
     "output_type": "display_data"
    }
   ],
   "source": [
    "plt.plot(hist_2.history['loss'])\n",
    "plt.plot(hist_2.history['val_loss'])\n",
    "plt.title('Model loss')\n",
    "plt.ylabel('Loss')\n",
    "plt.xlabel('Epoch')\n",
    "plt.legend(['Train', 'Val'], loc='upper right')\n",
    "plt.show()"
   ]
  },
  {
   "cell_type": "code",
   "execution_count": 40,
   "metadata": {},
   "outputs": [
    {
     "data": {
      "image/png": "[encoded data removed]",
      "text/plain": [
       "<Figure size 432x288 with 1 Axes>"
      ]
     },
     "metadata": {
      "needs_background": "light"
     },
     "output_type": "display_data"
    }
   ],
   "source": [
    "plt.plot(hist_2.history['accuracy'])\n",
    "plt.plot(hist_2.history['val_accuracy'])\n",
    "plt.title('Model accuracy')\n",
    "plt.ylabel('Accuracy')\n",
    "plt.xlabel('Epoch')\n",
    "plt.legend(['Train', 'Val'], loc='lower right')\n",
    "plt.show()"
   ]
  },
  {
   "cell_type": "markdown",
   "metadata": {},
   "source": [
    "## L2 regularization and dropout:"
   ]
  },
  {
   "cell_type": "code",
   "execution_count": 42,
   "metadata": {},
   "outputs": [],
   "source": [
    "model_3 = Sequential([\n",
    "    Dense(1000, activation='relu', kernel_regularizer=regularizers.l2(0.01), input_shape=(10,)),\n",
    "    Dropout(0.3),\n",
    "    Dense(1000, activation='relu', kernel_regularizer=regularizers.l2(0.01)),\n",
    "    Dropout(0.3),\n",
    "    Dense(1000, activation='relu', kernel_regularizer=regularizers.l2(0.01)),\n",
    "    Dropout(0.3),\n",
    "    Dense(1000, activation='relu', kernel_regularizer=regularizers.l2(0.01)),\n",
    "    Dropout(0.3),\n",
    "    Dense(1, activation='sigmoid', kernel_regularizer=regularizers.l2(0.01)),\n",
    "])"
   ]
  },
  {
   "cell_type": "code",
   "execution_count": 54,
   "metadata": {},
   "outputs": [],
   "source": [
    "model_3.compile(optimizer = \"adam\",\n",
    "                loss = \"binary_crossentropy\",\n",
    "              \n",
    "                metrics=['accuracy'])\n",
    "\n",
    "                         \n"
   ]
  },
  {
   "cell_type": "code",
   "execution_count": 55,
   "metadata": {},
   "outputs": [
    {
     "name": "stdout",
     "output_type": "stream",
     "text": [
      "Train on 1022 samples, validate on 219 samples\n",
      "Epoch 1/100\n",
      "1022/1022 [==============================] - 2s 2ms/step - loss: 14.2348 - accuracy: 0.6204 - val_loss: 3.8813 - val_accuracy: 0.8402\n",
      "Epoch 2/100\n",
      "1022/1022 [==============================] - 2s 2ms/step - loss: 1.6824 - accuracy: 0.8268 - val_loss: 0.6244 - val_accuracy: 0.8813\n",
      "Epoch 3/100\n",
      "1022/1022 [==============================] - 2s 2ms/step - loss: 0.6167 - accuracy: 0.8249 - val_loss: 0.4766 - val_accuracy: 0.8813\n",
      "Epoch 4/100\n",
      "1022/1022 [==============================] - 2s 2ms/step - loss: 0.5057 - accuracy: 0.8699 - val_loss: 0.4235 - val_accuracy: 0.8904\n",
      "Epoch 5/100\n",
      "1022/1022 [==============================] - 2s 2ms/step - loss: 0.4968 - accuracy: 0.8640 - val_loss: 0.4240 - val_accuracy: 0.9178\n",
      "Epoch 6/100\n",
      "1022/1022 [==============================] - 2s 2ms/step - loss: 0.5036 - accuracy: 0.8513 - val_loss: 0.4320 - val_accuracy: 0.9041\n",
      "Epoch 7/100\n",
      "1022/1022 [==============================] - 2s 2ms/step - loss: 0.4952 - accuracy: 0.8640 - val_loss: 0.4371 - val_accuracy: 0.8904\n",
      "Epoch 8/100\n",
      "1022/1022 [==============================] - 2s 2ms/step - loss: 0.5351 - accuracy: 0.8327 - val_loss: 0.4407 - val_accuracy: 0.8995\n",
      "Epoch 9/100\n",
      "1022/1022 [==============================] - 2s 2ms/step - loss: 0.4781 - accuracy: 0.8620 - val_loss: 0.3878 - val_accuracy: 0.9132\n",
      "Epoch 10/100\n",
      "1022/1022 [==============================] - 2s 2ms/step - loss: 0.4756 - accuracy: 0.8669 - val_loss: 0.4193 - val_accuracy: 0.8904\n",
      "Epoch 11/100\n",
      "1022/1022 [==============================] - 2s 2ms/step - loss: 0.4982 - accuracy: 0.8503 - val_loss: 0.4678 - val_accuracy: 0.8584\n",
      "Epoch 12/100\n",
      "1022/1022 [==============================] - 2s 2ms/step - loss: 0.4865 - accuracy: 0.8738 - val_loss: 0.3894 - val_accuracy: 0.9224\n",
      "Epoch 13/100\n",
      "1022/1022 [==============================] - 2s 2ms/step - loss: 0.4729 - accuracy: 0.8699 - val_loss: 0.4110 - val_accuracy: 0.9041\n",
      "Epoch 14/100\n",
      "1022/1022 [==============================] - 2s 2ms/step - loss: 0.4854 - accuracy: 0.8601 - val_loss: 0.3941 - val_accuracy: 0.9132\n",
      "Epoch 15/100\n",
      "1022/1022 [==============================] - 2s 2ms/step - loss: 0.4621 - accuracy: 0.8757 - val_loss: 0.4034 - val_accuracy: 0.9224\n",
      "Epoch 16/100\n",
      "1022/1022 [==============================] - 2s 2ms/step - loss: 0.4801 - accuracy: 0.8699 - val_loss: 0.4034 - val_accuracy: 0.8904\n",
      "Epoch 17/100\n",
      "1022/1022 [==============================] - 2s 2ms/step - loss: 0.4868 - accuracy: 0.8620 - val_loss: 0.3992 - val_accuracy: 0.8904\n",
      "Epoch 18/100\n",
      "1022/1022 [==============================] - 2s 2ms/step - loss: 0.4634 - accuracy: 0.8689 - val_loss: 0.3741 - val_accuracy: 0.9224\n",
      "Epoch 19/100\n",
      "1022/1022 [==============================] - 2s 2ms/step - loss: 0.4549 - accuracy: 0.8757 - val_loss: 0.3741 - val_accuracy: 0.9132\n",
      "Epoch 20/100\n",
      "1022/1022 [==============================] - 2s 2ms/step - loss: 0.4489 - accuracy: 0.8796 - val_loss: 0.4005 - val_accuracy: 0.9087\n",
      "Epoch 21/100\n",
      "1022/1022 [==============================] - 2s 2ms/step - loss: 0.4517 - accuracy: 0.8757 - val_loss: 0.3802 - val_accuracy: 0.9269\n",
      "Epoch 22/100\n",
      "1022/1022 [==============================] - 2s 2ms/step - loss: 0.4465 - accuracy: 0.8826 - val_loss: 0.4058 - val_accuracy: 0.8904\n",
      "Epoch 23/100\n",
      "1022/1022 [==============================] - 2s 2ms/step - loss: 0.4645 - accuracy: 0.8787 - val_loss: 0.3828 - val_accuracy: 0.9224\n",
      "Epoch 24/100\n",
      "1022/1022 [==============================] - 2s 2ms/step - loss: 0.4652 - accuracy: 0.8718 - val_loss: 0.3823 - val_accuracy: 0.9224\n",
      "Epoch 25/100\n",
      "1022/1022 [==============================] - 2s 2ms/step - loss: 0.4587 - accuracy: 0.8708 - val_loss: 0.3830 - val_accuracy: 0.9087\n",
      "Epoch 26/100\n",
      "1022/1022 [==============================] - 2s 2ms/step - loss: 0.4557 - accuracy: 0.8669 - val_loss: 0.3737 - val_accuracy: 0.9178\n",
      "Epoch 27/100\n",
      "1022/1022 [==============================] - 2s 2ms/step - loss: 0.4544 - accuracy: 0.8767 - val_loss: 0.3810 - val_accuracy: 0.9224\n",
      "Epoch 28/100\n",
      "1022/1022 [==============================] - 2s 2ms/step - loss: 0.4561 - accuracy: 0.8708 - val_loss: 0.3736 - val_accuracy: 0.9178\n",
      "Epoch 29/100\n",
      "1022/1022 [==============================] - 2s 2ms/step - loss: 0.4639 - accuracy: 0.8728 - val_loss: 0.3865 - val_accuracy: 0.9041\n",
      "Epoch 30/100\n",
      "1022/1022 [==============================] - 2s 2ms/step - loss: 0.4506 - accuracy: 0.8796 - val_loss: 0.3655 - val_accuracy: 0.9315\n",
      "Epoch 31/100\n",
      "1022/1022 [==============================] - 2s 2ms/step - loss: 0.4653 - accuracy: 0.8659 - val_loss: 0.3840 - val_accuracy: 0.9132\n",
      "Epoch 32/100\n",
      "1022/1022 [==============================] - 2s 2ms/step - loss: 0.4543 - accuracy: 0.8718 - val_loss: 0.3830 - val_accuracy: 0.9041\n",
      "Epoch 33/100\n",
      "1022/1022 [==============================] - 2s 2ms/step - loss: 0.4578 - accuracy: 0.8728 - val_loss: 0.3687 - val_accuracy: 0.9224\n",
      "Epoch 34/100\n",
      "1022/1022 [==============================] - 2s 2ms/step - loss: 0.4567 - accuracy: 0.8689 - val_loss: 0.3795 - val_accuracy: 0.9087\n",
      "Epoch 35/100\n",
      "1022/1022 [==============================] - 2s 2ms/step - loss: 0.4629 - accuracy: 0.8591 - val_loss: 0.4546 - val_accuracy: 0.8493\n",
      "Epoch 36/100\n",
      "1022/1022 [==============================] - 2s 2ms/step - loss: 0.4661 - accuracy: 0.8718 - val_loss: 0.3791 - val_accuracy: 0.9132\n",
      "Epoch 37/100\n",
      "1022/1022 [==============================] - 2s 2ms/step - loss: 0.4797 - accuracy: 0.8620 - val_loss: 0.3943 - val_accuracy: 0.9224\n",
      "Epoch 38/100\n",
      "1022/1022 [==============================] - 2s 2ms/step - loss: 0.4438 - accuracy: 0.8855 - val_loss: 0.3640 - val_accuracy: 0.9178\n",
      "Epoch 39/100\n",
      "1022/1022 [==============================] - 2s 2ms/step - loss: 0.4523 - accuracy: 0.8699 - val_loss: 0.3886 - val_accuracy: 0.9087\n",
      "Epoch 40/100\n",
      "1022/1022 [==============================] - 2s 2ms/step - loss: 0.4519 - accuracy: 0.8767 - val_loss: 0.3815 - val_accuracy: 0.9132\n",
      "Epoch 41/100\n",
      "1022/1022 [==============================] - 2s 2ms/step - loss: 0.4572 - accuracy: 0.8679 - val_loss: 0.3637 - val_accuracy: 0.9178\n",
      "Epoch 42/100\n",
      "1022/1022 [==============================] - 2s 2ms/step - loss: 0.4506 - accuracy: 0.8718 - val_loss: 0.3725 - val_accuracy: 0.9178\n",
      "Epoch 43/100\n",
      "1022/1022 [==============================] - 2s 2ms/step - loss: 0.4504 - accuracy: 0.8748 - val_loss: 0.3728 - val_accuracy: 0.9087\n",
      "Epoch 44/100\n",
      "1022/1022 [==============================] - 2s 2ms/step - loss: 0.4467 - accuracy: 0.8836 - val_loss: 0.4093 - val_accuracy: 0.8767\n",
      "Epoch 45/100\n",
      "1022/1022 [==============================] - 2s 2ms/step - loss: 0.4490 - accuracy: 0.8767 - val_loss: 0.3675 - val_accuracy: 0.9224\n",
      "Epoch 46/100\n",
      "1022/1022 [==============================] - 2s 2ms/step - loss: 0.4483 - accuracy: 0.8806 - val_loss: 0.3787 - val_accuracy: 0.9269\n",
      "Epoch 47/100\n",
      "1022/1022 [==============================] - 2s 2ms/step - loss: 0.4428 - accuracy: 0.8777 - val_loss: 0.3939 - val_accuracy: 0.8995\n",
      "Epoch 48/100\n",
      "1022/1022 [==============================] - 2s 2ms/step - loss: 0.4638 - accuracy: 0.8708 - val_loss: 0.3863 - val_accuracy: 0.9178\n",
      "Epoch 49/100\n",
      "1022/1022 [==============================] - 2s 2ms/step - loss: 0.4784 - accuracy: 0.8679 - val_loss: 0.3769 - val_accuracy: 0.9087\n",
      "Epoch 50/100\n",
      "1022/1022 [==============================] - 2s 2ms/step - loss: 0.4434 - accuracy: 0.8738 - val_loss: 0.3625 - val_accuracy: 0.9132\n",
      "Epoch 51/100\n",
      "1022/1022 [==============================] - 2s 2ms/step - loss: 0.4535 - accuracy: 0.8738 - val_loss: 0.3701 - val_accuracy: 0.9224\n",
      "Epoch 52/100\n",
      "1022/1022 [==============================] - 2s 2ms/step - loss: 0.4742 - accuracy: 0.8611 - val_loss: 0.3748 - val_accuracy: 0.9269\n",
      "Epoch 53/100\n",
      "1022/1022 [==============================] - 2s 2ms/step - loss: 0.4583 - accuracy: 0.8659 - val_loss: 0.3725 - val_accuracy: 0.9087\n",
      "Epoch 54/100\n",
      "1022/1022 [==============================] - 2s 2ms/step - loss: 0.4467 - accuracy: 0.8689 - val_loss: 0.3635 - val_accuracy: 0.9132\n",
      "Epoch 55/100\n",
      "1022/1022 [==============================] - 2s 2ms/step - loss: 0.4485 - accuracy: 0.8728 - val_loss: 0.4339 - val_accuracy: 0.8676\n",
      "Epoch 56/100\n",
      "1022/1022 [==============================] - 2s 2ms/step - loss: 0.5033 - accuracy: 0.8464 - val_loss: 0.3706 - val_accuracy: 0.9178\n"
     ]
    },
    {
     "name": "stdout",
     "output_type": "stream",
     "text": [
      "Epoch 57/100\n",
      "1022/1022 [==============================] - 2s 2ms/step - loss: 0.4581 - accuracy: 0.8689 - val_loss: 0.3663 - val_accuracy: 0.9224\n",
      "Epoch 58/100\n",
      "1022/1022 [==============================] - 2s 2ms/step - loss: 0.4424 - accuracy: 0.8787 - val_loss: 0.3708 - val_accuracy: 0.9224\n",
      "Epoch 59/100\n",
      "1022/1022 [==============================] - 2s 2ms/step - loss: 0.4384 - accuracy: 0.8728 - val_loss: 0.3981 - val_accuracy: 0.8904\n",
      "Epoch 60/100\n",
      "1022/1022 [==============================] - 2s 2ms/step - loss: 0.4417 - accuracy: 0.8806 - val_loss: 0.3608 - val_accuracy: 0.9132\n",
      "Epoch 61/100\n",
      "1022/1022 [==============================] - 2s 2ms/step - loss: 0.4403 - accuracy: 0.8728 - val_loss: 0.3579 - val_accuracy: 0.9269\n",
      "Epoch 62/100\n",
      "1022/1022 [==============================] - 2s 2ms/step - loss: 0.4424 - accuracy: 0.8826 - val_loss: 0.3652 - val_accuracy: 0.9132\n",
      "Epoch 63/100\n",
      "1022/1022 [==============================] - 2s 2ms/step - loss: 0.4569 - accuracy: 0.8630 - val_loss: 0.3662 - val_accuracy: 0.9178\n",
      "Epoch 64/100\n",
      "1022/1022 [==============================] - 3s 3ms/step - loss: 0.4478 - accuracy: 0.8767 - val_loss: 0.3712 - val_accuracy: 0.9224\n",
      "Epoch 65/100\n",
      "1022/1022 [==============================] - 2s 2ms/step - loss: 0.4514 - accuracy: 0.8767 - val_loss: 0.3622 - val_accuracy: 0.9224\n",
      "Epoch 66/100\n",
      "1022/1022 [==============================] - 2s 2ms/step - loss: 0.4460 - accuracy: 0.8826 - val_loss: 0.3669 - val_accuracy: 0.9132\n",
      "Epoch 67/100\n",
      "1022/1022 [==============================] - 2s 2ms/step - loss: 0.4589 - accuracy: 0.8708 - val_loss: 0.3649 - val_accuracy: 0.9224\n",
      "Epoch 68/100\n",
      "1022/1022 [==============================] - 2s 2ms/step - loss: 0.4435 - accuracy: 0.8748 - val_loss: 0.3805 - val_accuracy: 0.9178\n",
      "Epoch 69/100\n",
      "1022/1022 [==============================] - 2s 2ms/step - loss: 0.4350 - accuracy: 0.8826 - val_loss: 0.3610 - val_accuracy: 0.9224\n",
      "Epoch 70/100\n",
      "1022/1022 [==============================] - 2s 2ms/step - loss: 0.4484 - accuracy: 0.8728 - val_loss: 0.3703 - val_accuracy: 0.9132\n",
      "Epoch 71/100\n",
      "1022/1022 [==============================] - 2s 2ms/step - loss: 0.4479 - accuracy: 0.8865 - val_loss: 0.3678 - val_accuracy: 0.9132\n",
      "Epoch 72/100\n",
      "1022/1022 [==============================] - 2s 2ms/step - loss: 0.4537 - accuracy: 0.8748 - val_loss: 0.3695 - val_accuracy: 0.9269\n",
      "Epoch 73/100\n",
      "1022/1022 [==============================] - 2s 2ms/step - loss: 0.4476 - accuracy: 0.8738 - val_loss: 0.3695 - val_accuracy: 0.9132\n",
      "Epoch 74/100\n",
      "1022/1022 [==============================] - 2s 2ms/step - loss: 0.4615 - accuracy: 0.8640 - val_loss: 0.3649 - val_accuracy: 0.9224\n",
      "Epoch 75/100\n",
      "1022/1022 [==============================] - 2s 2ms/step - loss: 0.4474 - accuracy: 0.8757 - val_loss: 0.3607 - val_accuracy: 0.9269\n",
      "Epoch 76/100\n",
      "1022/1022 [==============================] - 3s 3ms/step - loss: 0.4404 - accuracy: 0.8767 - val_loss: 0.3695 - val_accuracy: 0.9315\n",
      "Epoch 77/100\n",
      "1022/1022 [==============================] - 3s 2ms/step - loss: 0.4427 - accuracy: 0.8787 - val_loss: 0.3646 - val_accuracy: 0.9224\n",
      "Epoch 78/100\n",
      "1022/1022 [==============================] - 2s 2ms/step - loss: 0.4625 - accuracy: 0.8669 - val_loss: 0.3803 - val_accuracy: 0.9132\n",
      "Epoch 79/100\n",
      "1022/1022 [==============================] - 2s 2ms/step - loss: 0.4481 - accuracy: 0.8757 - val_loss: 0.3614 - val_accuracy: 0.9224\n",
      "Epoch 80/100\n",
      "1022/1022 [==============================] - 2s 2ms/step - loss: 0.4472 - accuracy: 0.8728 - val_loss: 0.3665 - val_accuracy: 0.9269\n",
      "Epoch 81/100\n",
      "1022/1022 [==============================] - 2s 2ms/step - loss: 0.4600 - accuracy: 0.8630 - val_loss: 0.3641 - val_accuracy: 0.9269\n",
      "Epoch 82/100\n",
      "1022/1022 [==============================] - 2s 2ms/step - loss: 0.4562 - accuracy: 0.8679 - val_loss: 0.4158 - val_accuracy: 0.8721\n",
      "Epoch 83/100\n",
      "1022/1022 [==============================] - 2s 2ms/step - loss: 0.4332 - accuracy: 0.8806 - val_loss: 0.3595 - val_accuracy: 0.9224\n",
      "Epoch 84/100\n",
      "1022/1022 [==============================] - 2s 2ms/step - loss: 0.4537 - accuracy: 0.8748 - val_loss: 0.3725 - val_accuracy: 0.9269\n",
      "Epoch 85/100\n",
      "1022/1022 [==============================] - 2s 2ms/step - loss: 0.4439 - accuracy: 0.8738 - val_loss: 0.3630 - val_accuracy: 0.9224\n",
      "Epoch 86/100\n",
      "1022/1022 [==============================] - 2s 2ms/step - loss: 0.4378 - accuracy: 0.8836 - val_loss: 0.3612 - val_accuracy: 0.9178\n",
      "Epoch 87/100\n",
      "1022/1022 [==============================] - 2s 2ms/step - loss: 0.4517 - accuracy: 0.8640 - val_loss: 0.3946 - val_accuracy: 0.8950\n",
      "Epoch 88/100\n",
      "1022/1022 [==============================] - 2s 2ms/step - loss: 0.4484 - accuracy: 0.8718 - val_loss: 0.3651 - val_accuracy: 0.9132\n",
      "Epoch 89/100\n",
      "1022/1022 [==============================] - 2s 2ms/step - loss: 0.4550 - accuracy: 0.8748 - val_loss: 0.3673 - val_accuracy: 0.9132\n",
      "Epoch 90/100\n",
      "1022/1022 [==============================] - 2s 2ms/step - loss: 0.4421 - accuracy: 0.8826 - val_loss: 0.3654 - val_accuracy: 0.9269\n",
      "Epoch 91/100\n",
      "1022/1022 [==============================] - 2s 2ms/step - loss: 0.4449 - accuracy: 0.8659 - val_loss: 0.3933 - val_accuracy: 0.8950\n",
      "Epoch 92/100\n",
      "1022/1022 [==============================] - 2s 2ms/step - loss: 0.4527 - accuracy: 0.8669 - val_loss: 0.3648 - val_accuracy: 0.9224\n",
      "Epoch 93/100\n",
      "1022/1022 [==============================] - 2s 2ms/step - loss: 0.4465 - accuracy: 0.8787 - val_loss: 0.3748 - val_accuracy: 0.9178\n",
      "Epoch 94/100\n",
      "1022/1022 [==============================] - 2s 2ms/step - loss: 0.4649 - accuracy: 0.8738 - val_loss: 0.3714 - val_accuracy: 0.9178\n",
      "Epoch 95/100\n",
      "1022/1022 [==============================] - 2s 2ms/step - loss: 0.4472 - accuracy: 0.8767 - val_loss: 0.3663 - val_accuracy: 0.9132\n",
      "Epoch 96/100\n",
      "1022/1022 [==============================] - 3s 3ms/step - loss: 0.4458 - accuracy: 0.8728 - val_loss: 0.3711 - val_accuracy: 0.9132\n",
      "Epoch 97/100\n",
      "1022/1022 [==============================] - 2s 2ms/step - loss: 0.4352 - accuracy: 0.8806 - val_loss: 0.3850 - val_accuracy: 0.8995\n",
      "Epoch 98/100\n",
      "1022/1022 [==============================] - 2s 2ms/step - loss: 0.4479 - accuracy: 0.8777 - val_loss: 0.3828 - val_accuracy: 0.9041\n",
      "Epoch 99/100\n",
      "1022/1022 [==============================] - 2s 2ms/step - loss: 0.4500 - accuracy: 0.8777 - val_loss: 0.3651 - val_accuracy: 0.9224\n",
      "Epoch 100/100\n",
      "1022/1022 [==============================] - 2s 2ms/step - loss: 0.4428 - accuracy: 0.8757 - val_loss: 0.3767 - val_accuracy: 0.9132\n"
     ]
    }
   ],
   "source": [
    "hist_3 = model_3.fit(X_train, Y_train,\n",
    "          batch_size=32, epochs=100,\n",
    "          validation_data=(X_val, Y_val))"
   ]
  },
  {
   "cell_type": "code",
   "execution_count": 58,
   "metadata": {},
   "outputs": [
    {
     "data": {
      "image/png": "[encoded data removed]",
      "text/plain": [
       "<Figure size 432x288 with 1 Axes>"
      ]
     },
     "metadata": {
      "needs_background": "light"
     },
     "output_type": "display_data"
    }
   ],
   "source": [
    "plt.plot(hist_3.history['loss'])\n",
    "plt.plot(hist_3.history['val_loss'])\n",
    "plt.title('Model loss')\n",
    "plt.ylabel('Loss')\n",
    "plt.xlabel('Epoch')\n",
    "plt.legend(['Train', 'Val'], loc='upper right')\n",
    "plt.ylim(top=1.2, bottom=0)\n",
    "plt.show()"
   ]
  },
  {
   "cell_type": "code",
   "execution_count": 60,
   "metadata": {},
   "outputs": [
    {
     "data": {
      "image/png": "[encoded data removed]",
      "text/plain": [
       "<Figure size 432x288 with 1 Axes>"
      ]
     },
     "metadata": {
      "needs_background": "light"
     },
     "output_type": "display_data"
    }
   ],
   "source": [
    "plt.plot(hist_3.history['accuracy'])\n",
    "plt.plot(hist_3.history['val_accuracy'])\n",
    "plt.title('Model accuracy')\n",
    "plt.ylabel('Accuracy')\n",
    "plt.xlabel('Epoch')\n",
    "plt.legend(['Train', 'Val'], loc='lower right')\n",
    "plt.show()"
   ]
  },
  {
   "cell_type": "code",
   "execution_count": null,
   "metadata": {},
   "outputs": [],
   "source": []
  }
 ],
 "metadata": {
  "kernelspec": {
   "display_name": "Python 3",
   "language": "python",
   "name": "python3"
  },
  "language_info": {
   "codemirror_mode": {
    "name": "ipython",
    "version": 3
   },
   "file_extension": ".py",
   "mimetype": "text/x-python",
   "name": "python",
   "nbconvert_exporter": "python",
   "pygments_lexer": "ipython3",
   "version": "3.7.3"
  }
 },
 "nbformat": 4,
 "nbformat_minor": 2
}
